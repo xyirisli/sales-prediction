{
  "nbformat": 4,
  "nbformat_minor": 0,
  "metadata": {
    "colab": {
      "name": "Data_Science_Case.ipynb",
      "provenance": [],
      "toc_visible": true
    },
    "kernelspec": {
      "name": "python3",
      "display_name": "Python 3"
    }
  },
  "cells": [
    {
      "cell_type": "code",
      "metadata": {
        "id": "gp5FkefpthtI"
      },
      "source": [
        "import os\n",
        "import numpy as np\n",
        "import pandas as pd\n",
        "\n",
        "from sklearn.exceptions import ConvergenceWarning\n",
        "from keras.models import Sequential\n",
        "from keras.layers import LSTM,Dense,Dropout\n",
        "from keras.models import load_model, Model\n",
        "from keras.callbacks import EarlyStopping\n",
        "\n",
        "from scipy import stats\n",
        "from datetime import datetime\n",
        "\n",
        "import matplotlib\n",
        "import matplotlib.pyplot as plt\n",
        "import seaborn as sns\n",
        "%matplotlib inline  \n",
        "\n",
        "import random\n",
        "random.seed()\n",
        "from math import ceil\n",
        "\n",
        "import warnings\n",
        "warnings.filterwarnings(\"ignore\", category=FutureWarning)\n",
        "warnings.filterwarnings(\"ignore\", category=ConvergenceWarning)"
      ],
      "execution_count": null,
      "outputs": []
    },
    {
      "cell_type": "markdown",
      "metadata": {
        "id": "jr70fm9TREk7"
      },
      "source": [
        "# Data Preprocessing"
      ]
    },
    {
      "cell_type": "code",
      "metadata": {
        "id": "3DESRJUHSRkn"
      },
      "source": [
        "def data_overview(df): \n",
        "  print('====== First 5 rows ======')\n",
        "  print(df.head())\n",
        "  print('\\n====== Shape ======')\n",
        "  print(df.shape)\n",
        "  print('\\n====== Info======')\n",
        "  print(df.info())\n",
        "  print('\\n====== Stats description ======')\n",
        "  print(df.describe())\n",
        "  print('\\n====== Check missing value ======')\n",
        "  print(df.isnull().sum())"
      ],
      "execution_count": null,
      "outputs": []
    },
    {
      "cell_type": "code",
      "metadata": {
        "id": "nKr0FvRYuiHH"
      },
      "source": [
        "sales = pd.read_csv('sales.csv')\n",
        "items = pd.read_csv('items.csv')\n",
        "item_categories = pd.read_csv('item_categories.csv')\n",
        "shops = pd.read_csv('shops.csv')"
      ],
      "execution_count": null,
      "outputs": []
    },
    {
      "cell_type": "code",
      "metadata": {
        "id": "UHk6qXPRw4KT",
        "outputId": "3f17a082-7dd1-4a2e-cb77-8d4c5e16b27a",
        "colab": {
          "base_uri": "https://localhost:8080/",
          "height": 799
        }
      },
      "source": [
        "data_overview(sales)"
      ],
      "execution_count": null,
      "outputs": [
        {
          "output_type": "stream",
          "text": [
            "====== First 5 rows ======\n",
            "         date  date_block_num  shop_id  item_id  item_price  item_cnt_day\n",
            "0  02.01.2013               0       59    22154      999.00           1.0\n",
            "1  03.01.2013               0       25     2552      899.00           1.0\n",
            "2  05.01.2013               0       25     2552      899.00          -1.0\n",
            "3  06.01.2013               0       25     2554     1709.05           1.0\n",
            "4  15.01.2013               0       25     2555     1099.00           1.0\n",
            "\n",
            "====== Shape ======\n",
            "(2935849, 6)\n",
            "\n",
            "====== Info======\n",
            "<class 'pandas.core.frame.DataFrame'>\n",
            "RangeIndex: 2935849 entries, 0 to 2935848\n",
            "Data columns (total 6 columns):\n",
            " #   Column          Dtype  \n",
            "---  ------          -----  \n",
            " 0   date            object \n",
            " 1   date_block_num  int64  \n",
            " 2   shop_id         int64  \n",
            " 3   item_id         int64  \n",
            " 4   item_price      float64\n",
            " 5   item_cnt_day    float64\n",
            "dtypes: float64(2), int64(3), object(1)\n",
            "memory usage: 134.4+ MB\n",
            "None\n",
            "\n",
            "====== Stats description ======\n",
            "       date_block_num       shop_id       item_id    item_price  item_cnt_day\n",
            "count    2.935849e+06  2.935849e+06  2.935849e+06  2.935849e+06  2.935799e+06\n",
            "mean     1.456991e+01  3.300173e+01  1.019723e+04  3.383346e+03  1.242645e+00\n",
            "std      9.422988e+00  1.622697e+01  6.324297e+03  2.627246e+04  2.618857e+00\n",
            "min      0.000000e+00  0.000000e+00  0.000000e+00 -1.000000e+00 -2.200000e+01\n",
            "25%      7.000000e+00  2.200000e+01  4.476000e+03  2.490000e+02  1.000000e+00\n",
            "50%      1.400000e+01  3.100000e+01  9.343000e+03  4.190000e+02  1.000000e+00\n",
            "75%      2.300000e+01  4.700000e+01  1.568400e+04  1.049000e+03  1.000000e+00\n",
            "max      3.300000e+01  5.900000e+01  2.216900e+04  4.200000e+06  2.169000e+03\n",
            "\n",
            "====== Check missing value ======\n",
            "date               0\n",
            "date_block_num     0\n",
            "shop_id            0\n",
            "item_id            0\n",
            "item_price         0\n",
            "item_cnt_day      50\n",
            "dtype: int64\n"
          ],
          "name": "stdout"
        }
      ]
    },
    {
      "cell_type": "code",
      "metadata": {
        "id": "41C3iiWVVULy",
        "outputId": "2b05dcf4-d5f7-44bf-dbef-ccae98f01c61",
        "colab": {
          "base_uri": "https://localhost:8080/",
          "height": 136
        }
      },
      "source": [
        "# as we don't have many nan values, let's drop the 50 nan \n",
        "sales.dropna(inplace=True)\n",
        "# check again\n",
        "sales.isnull().sum()"
      ],
      "execution_count": null,
      "outputs": [
        {
          "output_type": "execute_result",
          "data": {
            "text/plain": [
              "date              0\n",
              "date_block_num    0\n",
              "shop_id           0\n",
              "item_id           0\n",
              "item_price        0\n",
              "item_cnt_day      0\n",
              "dtype: int64"
            ]
          },
          "metadata": {
            "tags": []
          },
          "execution_count": 18
        }
      ]
    },
    {
      "cell_type": "code",
      "metadata": {
        "id": "IkgiIX8tfznL",
        "outputId": "a20fd8b8-6a57-420b-c05d-7efcd3671d90",
        "colab": {
          "base_uri": "https://localhost:8080/",
          "height": 297
        }
      },
      "source": [
        "# other issues are the negative prices and negative number of items sold\n",
        "# let's remove them \n",
        "sales = sales[sales['item_price'] >= 0]\n",
        "sales = sales[sales['item_cnt_day'] >= 0]\n",
        "sales.describe()"
      ],
      "execution_count": null,
      "outputs": [
        {
          "output_type": "execute_result",
          "data": {
            "text/html": [
              "<div>\n",
              "<style scoped>\n",
              "    .dataframe tbody tr th:only-of-type {\n",
              "        vertical-align: middle;\n",
              "    }\n",
              "\n",
              "    .dataframe tbody tr th {\n",
              "        vertical-align: top;\n",
              "    }\n",
              "\n",
              "    .dataframe thead th {\n",
              "        text-align: right;\n",
              "    }\n",
              "</style>\n",
              "<table border=\"1\" class=\"dataframe\">\n",
              "  <thead>\n",
              "    <tr style=\"text-align: right;\">\n",
              "      <th></th>\n",
              "      <th>date_block_num</th>\n",
              "      <th>shop_id</th>\n",
              "      <th>item_id</th>\n",
              "      <th>item_price</th>\n",
              "      <th>item_cnt_day</th>\n",
              "    </tr>\n",
              "  </thead>\n",
              "  <tbody>\n",
              "    <tr>\n",
              "      <th>count</th>\n",
              "      <td>2.928442e+06</td>\n",
              "      <td>2.928442e+06</td>\n",
              "      <td>2.928442e+06</td>\n",
              "      <td>2.928442e+06</td>\n",
              "      <td>2.928442e+06</td>\n",
              "    </tr>\n",
              "    <tr>\n",
              "      <th>mean</th>\n",
              "      <td>1.456969e+01</td>\n",
              "      <td>3.300302e+01</td>\n",
              "      <td>1.020008e+04</td>\n",
              "      <td>3.377036e+03</td>\n",
              "      <td>1.248342e+00</td>\n",
              "    </tr>\n",
              "    <tr>\n",
              "      <th>std</th>\n",
              "      <td>9.422964e+00</td>\n",
              "      <td>1.622541e+01</td>\n",
              "      <td>6.324257e+03</td>\n",
              "      <td>2.620693e+04</td>\n",
              "      <td>2.619608e+00</td>\n",
              "    </tr>\n",
              "    <tr>\n",
              "      <th>min</th>\n",
              "      <td>0.000000e+00</td>\n",
              "      <td>0.000000e+00</td>\n",
              "      <td>0.000000e+00</td>\n",
              "      <td>7.000000e-02</td>\n",
              "      <td>1.000000e+00</td>\n",
              "    </tr>\n",
              "    <tr>\n",
              "      <th>25%</th>\n",
              "      <td>7.000000e+00</td>\n",
              "      <td>2.200000e+01</td>\n",
              "      <td>4.477000e+03</td>\n",
              "      <td>2.490000e+02</td>\n",
              "      <td>1.000000e+00</td>\n",
              "    </tr>\n",
              "    <tr>\n",
              "      <th>50%</th>\n",
              "      <td>1.400000e+01</td>\n",
              "      <td>3.100000e+01</td>\n",
              "      <td>9.355000e+03</td>\n",
              "      <td>4.190000e+02</td>\n",
              "      <td>1.000000e+00</td>\n",
              "    </tr>\n",
              "    <tr>\n",
              "      <th>75%</th>\n",
              "      <td>2.300000e+01</td>\n",
              "      <td>4.700000e+01</td>\n",
              "      <td>1.568900e+04</td>\n",
              "      <td>1.044670e+03</td>\n",
              "      <td>1.000000e+00</td>\n",
              "    </tr>\n",
              "    <tr>\n",
              "      <th>max</th>\n",
              "      <td>3.300000e+01</td>\n",
              "      <td>5.900000e+01</td>\n",
              "      <td>2.216900e+04</td>\n",
              "      <td>4.200000e+06</td>\n",
              "      <td>2.169000e+03</td>\n",
              "    </tr>\n",
              "  </tbody>\n",
              "</table>\n",
              "</div>"
            ],
            "text/plain": [
              "       date_block_num       shop_id       item_id    item_price  item_cnt_day\n",
              "count    2.928442e+06  2.928442e+06  2.928442e+06  2.928442e+06  2.928442e+06\n",
              "mean     1.456969e+01  3.300302e+01  1.020008e+04  3.377036e+03  1.248342e+00\n",
              "std      9.422964e+00  1.622541e+01  6.324257e+03  2.620693e+04  2.619608e+00\n",
              "min      0.000000e+00  0.000000e+00  0.000000e+00  7.000000e-02  1.000000e+00\n",
              "25%      7.000000e+00  2.200000e+01  4.477000e+03  2.490000e+02  1.000000e+00\n",
              "50%      1.400000e+01  3.100000e+01  9.355000e+03  4.190000e+02  1.000000e+00\n",
              "75%      2.300000e+01  4.700000e+01  1.568900e+04  1.044670e+03  1.000000e+00\n",
              "max      3.300000e+01  5.900000e+01  2.216900e+04  4.200000e+06  2.169000e+03"
            ]
          },
          "metadata": {
            "tags": []
          },
          "execution_count": 19
        }
      ]
    },
    {
      "cell_type": "code",
      "metadata": {
        "id": "e0awcIyhxMB0",
        "outputId": "42590dbd-ca91-4946-bfce-15ac39c473f2",
        "colab": {
          "base_uri": "https://localhost:8080/",
          "height": 697
        }
      },
      "source": [
        "data_overview(items)"
      ],
      "execution_count": null,
      "outputs": [
        {
          "output_type": "stream",
          "text": [
            "====== First 5 rows ======\n",
            "                                           item_name  id  category\n",
            "0                       ! POWER IN glamor (PLAST.) D   0        40\n",
            "1  ! ABBYY FineReader 12 Professional Edition Ful...   1        76\n",
            "2                           *** In the glory (UNV) D   2        40\n",
            "3                             *** BLUE WAVE (Univ) D   3        40\n",
            "4                                  *** BOX (GLASS) D   4        40\n",
            "\n",
            "====== Shape ======\n",
            "(22170, 3)\n",
            "\n",
            "====== Info======\n",
            "<class 'pandas.core.frame.DataFrame'>\n",
            "RangeIndex: 22170 entries, 0 to 22169\n",
            "Data columns (total 3 columns):\n",
            " #   Column     Non-Null Count  Dtype \n",
            "---  ------     --------------  ----- \n",
            " 0   item_name  22170 non-null  object\n",
            " 1   id         22170 non-null  int64 \n",
            " 2   category   22170 non-null  int64 \n",
            "dtypes: int64(2), object(1)\n",
            "memory usage: 519.7+ KB\n",
            "None\n",
            "\n",
            "====== Stats description ======\n",
            "                id      category\n",
            "count  22170.00000  22170.000000\n",
            "mean   11084.50000     46.290753\n",
            "std     6400.07207     15.941486\n",
            "min        0.00000      0.000000\n",
            "25%     5542.25000     37.000000\n",
            "50%    11084.50000     40.000000\n",
            "75%    16626.75000     58.000000\n",
            "max    22169.00000     83.000000\n",
            "\n",
            "====== Check missing value ======\n",
            "item_name    0\n",
            "id           0\n",
            "category     0\n",
            "dtype: int64\n"
          ],
          "name": "stdout"
        }
      ]
    },
    {
      "cell_type": "code",
      "metadata": {
        "id": "la6rSacmxdkB",
        "outputId": "f51c34ef-09cd-4d91-8042-3e3d51716f8c",
        "colab": {
          "base_uri": "https://localhost:8080/",
          "height": 697
        }
      },
      "source": [
        "data_overview(item_categories)"
      ],
      "execution_count": null,
      "outputs": [
        {
          "output_type": "stream",
          "text": [
            "====== First 5 rows ======\n",
            "   ID               item_category_name active_flag\n",
            "0  25    Games - Accessories for games         NaN\n",
            "1   5             Accessories - PSVita         NaN\n",
            "2  62  Gifts - gadgets, robots, sports         NaN\n",
            "3  15         Game consoles - XBOX 360         NaN\n",
            "4  14           Game consoles - PSVita         NaN\n",
            "\n",
            "====== Shape ======\n",
            "(95, 3)\n",
            "\n",
            "====== Info======\n",
            "<class 'pandas.core.frame.DataFrame'>\n",
            "RangeIndex: 95 entries, 0 to 94\n",
            "Data columns (total 3 columns):\n",
            " #   Column              Non-Null Count  Dtype \n",
            "---  ------              --------------  ----- \n",
            " 0   ID                  95 non-null     int64 \n",
            " 1   item_category_name  95 non-null     object\n",
            " 2   active_flag         11 non-null     object\n",
            "dtypes: int64(1), object(2)\n",
            "memory usage: 2.4+ KB\n",
            "None\n",
            "\n",
            "====== Stats description ======\n",
            "              ID\n",
            "count  95.000000\n",
            "mean   40.600000\n",
            "std    24.358755\n",
            "min     0.000000\n",
            "25%    18.500000\n",
            "50%    41.000000\n",
            "75%    61.500000\n",
            "max    83.000000\n",
            "\n",
            "====== Check missing value ======\n",
            "ID                     0\n",
            "item_category_name     0\n",
            "active_flag           84\n",
            "dtype: int64\n"
          ],
          "name": "stdout"
        }
      ]
    },
    {
      "cell_type": "code",
      "metadata": {
        "id": "4q-A23DLxfh5",
        "outputId": "e4ca100c-c431-4462-dc74-14f3dc5c22e5",
        "colab": {
          "base_uri": "https://localhost:8080/",
          "height": 731
        }
      },
      "source": [
        "data_overview(shops)"
      ],
      "execution_count": null,
      "outputs": [
        {
          "output_type": "stream",
          "text": [
            "====== First 5 rows ======\n",
            "  system_id                                   name  id active_flag\n",
            "0   R395989                Voronezh TRC \"Maksimir\"   7           X\n",
            "1   Q222502                       Zhukovsky Street  11           X\n",
            "2    B70025  RostovNaDonu TRC \"Megacenter Horizon\"  39         NaN\n",
            "3   U750976      ! Yakutsk Ordzhonikidze, 56 Franc   0         NaN\n",
            "4   F831253                Shop Online Emergencies  12         NaN\n",
            "\n",
            "====== Shape ======\n",
            "(68, 4)\n",
            "\n",
            "====== Info======\n",
            "<class 'pandas.core.frame.DataFrame'>\n",
            "RangeIndex: 68 entries, 0 to 67\n",
            "Data columns (total 4 columns):\n",
            " #   Column       Non-Null Count  Dtype \n",
            "---  ------       --------------  ----- \n",
            " 0   system_id    68 non-null     object\n",
            " 1   name         68 non-null     object\n",
            " 2   id           68 non-null     int64 \n",
            " 3   active_flag  8 non-null      object\n",
            "dtypes: int64(1), object(3)\n",
            "memory usage: 2.2+ KB\n",
            "None\n",
            "\n",
            "====== Stats description ======\n",
            "              id\n",
            "count  68.000000\n",
            "mean   26.955882\n",
            "std    17.869706\n",
            "min     0.000000\n",
            "25%    10.750000\n",
            "50%    25.500000\n",
            "75%    42.250000\n",
            "max    59.000000\n",
            "\n",
            "====== Check missing value ======\n",
            "system_id       0\n",
            "name            0\n",
            "id              0\n",
            "active_flag    60\n",
            "dtype: int64\n"
          ],
          "name": "stdout"
        }
      ]
    },
    {
      "cell_type": "code",
      "metadata": {
        "id": "-0K12cLLUisk",
        "outputId": "49b0b2d2-be5c-403d-e80c-31b8a24042f3",
        "colab": {
          "base_uri": "https://localhost:8080/",
          "height": 731
        }
      },
      "source": [
        "data_overview(shops)"
      ],
      "execution_count": null,
      "outputs": [
        {
          "output_type": "stream",
          "text": [
            "====== First 5 rows ======\n",
            "  system_id                                   name  id active_flag\n",
            "0   R395989                Voronezh TRC \"Maksimir\"   7           X\n",
            "1   Q222502                       Zhukovsky Street  11           X\n",
            "2    B70025  RostovNaDonu TRC \"Megacenter Horizon\"  39         NaN\n",
            "3   U750976      ! Yakutsk Ordzhonikidze, 56 Franc   0         NaN\n",
            "4   F831253                Shop Online Emergencies  12         NaN\n",
            "\n",
            "====== Shape ======\n",
            "(68, 4)\n",
            "\n",
            "====== Info======\n",
            "<class 'pandas.core.frame.DataFrame'>\n",
            "RangeIndex: 68 entries, 0 to 67\n",
            "Data columns (total 4 columns):\n",
            " #   Column       Non-Null Count  Dtype \n",
            "---  ------       --------------  ----- \n",
            " 0   system_id    68 non-null     object\n",
            " 1   name         68 non-null     object\n",
            " 2   id           68 non-null     int64 \n",
            " 3   active_flag  8 non-null      object\n",
            "dtypes: int64(1), object(3)\n",
            "memory usage: 2.2+ KB\n",
            "None\n",
            "\n",
            "====== Stats description ======\n",
            "              id\n",
            "count  68.000000\n",
            "mean   26.955882\n",
            "std    17.869706\n",
            "min     0.000000\n",
            "25%    10.750000\n",
            "50%    25.500000\n",
            "75%    42.250000\n",
            "max    59.000000\n",
            "\n",
            "====== Check missing value ======\n",
            "system_id       0\n",
            "name            0\n",
            "id              0\n",
            "active_flag    60\n",
            "dtype: int64\n"
          ],
          "name": "stdout"
        }
      ]
    },
    {
      "cell_type": "markdown",
      "metadata": {
        "id": "ix8GqCUQxww1"
      },
      "source": [
        "# Exploratory Data Analysis "
      ]
    },
    {
      "cell_type": "code",
      "metadata": {
        "id": "P0xsoskvDkhe",
        "outputId": "d4279474-846c-4fc3-ff3d-461d6d7cb69a",
        "colab": {
          "base_uri": "https://localhost:8080/",
          "height": 204
        }
      },
      "source": [
        "sales['year'] = pd.to_datetime(sales['date']).dt.strftime('%Y')\n",
        "sales['month'] = pd.to_datetime(sales['date']).dt.strftime('%m')\n",
        "sales.head()"
      ],
      "execution_count": null,
      "outputs": [
        {
          "output_type": "execute_result",
          "data": {
            "text/html": [
              "<div>\n",
              "<style scoped>\n",
              "    .dataframe tbody tr th:only-of-type {\n",
              "        vertical-align: middle;\n",
              "    }\n",
              "\n",
              "    .dataframe tbody tr th {\n",
              "        vertical-align: top;\n",
              "    }\n",
              "\n",
              "    .dataframe thead th {\n",
              "        text-align: right;\n",
              "    }\n",
              "</style>\n",
              "<table border=\"1\" class=\"dataframe\">\n",
              "  <thead>\n",
              "    <tr style=\"text-align: right;\">\n",
              "      <th></th>\n",
              "      <th>date</th>\n",
              "      <th>date_block_num</th>\n",
              "      <th>shop_id</th>\n",
              "      <th>item_id</th>\n",
              "      <th>item_price</th>\n",
              "      <th>item_cnt_day</th>\n",
              "      <th>year</th>\n",
              "      <th>month</th>\n",
              "    </tr>\n",
              "  </thead>\n",
              "  <tbody>\n",
              "    <tr>\n",
              "      <th>0</th>\n",
              "      <td>02.01.2013</td>\n",
              "      <td>0</td>\n",
              "      <td>59</td>\n",
              "      <td>22154</td>\n",
              "      <td>999.00</td>\n",
              "      <td>1.0</td>\n",
              "      <td>2013</td>\n",
              "      <td>02</td>\n",
              "    </tr>\n",
              "    <tr>\n",
              "      <th>1</th>\n",
              "      <td>03.01.2013</td>\n",
              "      <td>0</td>\n",
              "      <td>25</td>\n",
              "      <td>2552</td>\n",
              "      <td>899.00</td>\n",
              "      <td>1.0</td>\n",
              "      <td>2013</td>\n",
              "      <td>03</td>\n",
              "    </tr>\n",
              "    <tr>\n",
              "      <th>3</th>\n",
              "      <td>06.01.2013</td>\n",
              "      <td>0</td>\n",
              "      <td>25</td>\n",
              "      <td>2554</td>\n",
              "      <td>1709.05</td>\n",
              "      <td>1.0</td>\n",
              "      <td>2013</td>\n",
              "      <td>06</td>\n",
              "    </tr>\n",
              "    <tr>\n",
              "      <th>4</th>\n",
              "      <td>15.01.2013</td>\n",
              "      <td>0</td>\n",
              "      <td>25</td>\n",
              "      <td>2555</td>\n",
              "      <td>1099.00</td>\n",
              "      <td>1.0</td>\n",
              "      <td>2013</td>\n",
              "      <td>01</td>\n",
              "    </tr>\n",
              "    <tr>\n",
              "      <th>5</th>\n",
              "      <td>10.01.2013</td>\n",
              "      <td>0</td>\n",
              "      <td>25</td>\n",
              "      <td>2564</td>\n",
              "      <td>349.00</td>\n",
              "      <td>1.0</td>\n",
              "      <td>2013</td>\n",
              "      <td>10</td>\n",
              "    </tr>\n",
              "  </tbody>\n",
              "</table>\n",
              "</div>"
            ],
            "text/plain": [
              "         date  date_block_num  shop_id  ...  item_cnt_day  year  month\n",
              "0  02.01.2013               0       59  ...           1.0  2013     02\n",
              "1  03.01.2013               0       25  ...           1.0  2013     03\n",
              "3  06.01.2013               0       25  ...           1.0  2013     06\n",
              "4  15.01.2013               0       25  ...           1.0  2013     01\n",
              "5  10.01.2013               0       25  ...           1.0  2013     10\n",
              "\n",
              "[5 rows x 8 columns]"
            ]
          },
          "metadata": {
            "tags": []
          },
          "execution_count": 25
        }
      ]
    },
    {
      "cell_type": "markdown",
      "metadata": {
        "id": "NubsMbzcgZk8"
      },
      "source": [
        "## Sales Plots"
      ]
    },
    {
      "cell_type": "markdown",
      "metadata": {
        "id": "n5JeFP1agh_h"
      },
      "source": [
        "### By time period"
      ]
    },
    {
      "cell_type": "code",
      "metadata": {
        "id": "D2iRC2WOD15v",
        "outputId": "6743e0fc-cb85-4e59-9db7-5ee009d980be",
        "colab": {
          "base_uri": "https://localhost:8080/",
          "height": 350
        }
      },
      "source": [
        "total = sales.groupby([\"date_block_num\"])[\"item_cnt_day\"].sum()\n",
        "total.astype('float')\n",
        "plt.figure(figsize=(10,5))\n",
        "plt.title('Total Sales over the Entire Time Horizon')\n",
        "plt.xlabel('month #')\n",
        "plt.ylabel('sales')\n",
        "plt.plot(total);"
      ],
      "execution_count": 109,
      "outputs": [
        {
          "output_type": "display_data",
          "data": {
            "image/png": "[encoded data removed]",
            "text/plain": [
              "<Figure size 720x360 with 1 Axes>"
            ]
          },
          "metadata": {
            "tags": [],
            "needs_background": "light"
          }
        }
      ]
    },
    {
      "cell_type": "code",
      "metadata": {
        "id": "G2dVn5waD2C3",
        "outputId": "80b8e943-2597-436f-9ad1-69bc064a750e",
        "colab": {
          "base_uri": "https://localhost:8080/",
          "height": 296
        }
      },
      "source": [
        "sales_agg = pd.DataFrame(sales.groupby(['year','month'])['item_cnt_day'].sum().reset_index())\n",
        "sns.pointplot(x='month', y='item_cnt_day', hue='year', data=sales_agg)"
      ],
      "execution_count": 113,
      "outputs": [
        {
          "output_type": "execute_result",
          "data": {
            "text/plain": [
              "<matplotlib.axes._subplots.AxesSubplot at 0x7fc3274817b8>"
            ]
          },
          "metadata": {
            "tags": []
          },
          "execution_count": 113
        },
        {
          "output_type": "display_data",
          "data": {
            "image/png": "[encoded data removed]",
            "text/plain": [
              "<Figure size 432x288 with 1 Axes>"
            ]
          },
          "metadata": {
            "tags": [],
            "needs_background": "light"
          }
        }
      ]
    },
    {
      "cell_type": "code",
      "metadata": {
        "id": "YivkhZpoD2l2"
      },
      "source": [
        "# as seen in the plot above, we don't have the complete information \n",
        "# of sales in Nov and Dec of 2015, so let's exclude them and plot again\n",
        "indexNames = sales_agg[(sales_agg['year']=='2015') & (sales_agg['month']>'10')].index\n",
        "sales_agg.drop(indexNames,inplace = True)"
      ],
      "execution_count": 111,
      "outputs": []
    },
    {
      "cell_type": "code",
      "metadata": {
        "id": "MBg1xSfMD2aH",
        "outputId": "f11c4f21-1c01-4a7b-8ca2-8ece218d2a7a",
        "colab": {
          "base_uri": "https://localhost:8080/",
          "height": 296
        }
      },
      "source": [
        "sns.pointplot(x='month', y='item_cnt_day', hue='year', data=sales_agg)"
      ],
      "execution_count": 112,
      "outputs": [
        {
          "output_type": "execute_result",
          "data": {
            "text/plain": [
              "<matplotlib.axes._subplots.AxesSubplot at 0x7fc3275a7da0>"
            ]
          },
          "metadata": {
            "tags": []
          },
          "execution_count": 112
        },
        {
          "output_type": "display_data",
          "data": {
            "image/png": "[encoded data removed]",
            "text/plain": [
              "<Figure size 432x288 with 1 Axes>"
            ]
          },
          "metadata": {
            "tags": [],
            "needs_background": "light"
          }
        }
      ]
    },
    {
      "cell_type": "markdown",
      "metadata": {
        "id": "7mg-2r5ugmg0"
      },
      "source": [
        "### By shop"
      ]
    },
    {
      "cell_type": "code",
      "metadata": {
        "id": "PdekWz9aS4aZ",
        "outputId": "baddca0a-fd21-4407-b4e2-87569cce11a5",
        "colab": {
          "base_uri": "https://localhost:8080/",
          "height": 824
        }
      },
      "source": [
        "sales_shop = pd.DataFrame(sales.groupby(['shop_id', 'date_block_num'])['item_cnt_day'].sum().reset_index())\n",
        "fig, axes = plt.subplots(nrows=5, ncols=2, sharex=True, sharey=True, figsize=(10,14))\n",
        "num_graph = 10\n",
        "id_per_graph = ceil(sales_shop.shop_id.max() / num_graph)\n",
        "count = 0\n",
        "for i in range(5):\n",
        "    for j in range(2):\n",
        "        sns.pointplot(x='date_block_num', y='item_cnt_day', hue='shop_id', \n",
        "                      data=sales_shop[np.logical_and(count*id_per_graph <= sales_shop['shop_id'], \n",
        "                      sales_shop['shop_id'] < (count+1)*id_per_graph)], ax=axes[i][j])\n",
        "        count += 1"
      ],
      "execution_count": null,
      "outputs": [
        {
          "output_type": "display_data",
          "data": {
            "image/png": "[encoded data removed]",
            "text/plain": [
              "<Figure size 720x1008 with 10 Axes>"
            ]
          },
          "metadata": {
            "tags": [],
            "needs_background": "light"
          }
        }
      ]
    },
    {
      "cell_type": "markdown",
      "metadata": {
        "id": "AFkzzFTygqHZ"
      },
      "source": [
        "## Average Price Plots"
      ]
    },
    {
      "cell_type": "code",
      "metadata": {
        "id": "CuXDg44sS4KB",
        "outputId": "2b484c3d-0b62-44fe-d1b6-648649a86828",
        "colab": {
          "base_uri": "https://localhost:8080/",
          "height": 350
        }
      },
      "source": [
        "prices = sales.groupby([\"date_block_num\"])[\"item_price\"].mean()\n",
        "prices.astype('float')\n",
        "plt.figure(figsize=(10,5))\n",
        "plt.title('Price Trend over the Entire Time Horizon')\n",
        "plt.xlabel('month #')\n",
        "plt.ylabel('average price')\n",
        "plt.plot(prices);"
      ],
      "execution_count": null,
      "outputs": [
        {
          "output_type": "display_data",
          "data": {
            "image/png": "[encoded data removed]",
            "text/plain": [
              "<Figure size 720x360 with 1 Axes>"
            ]
          },
          "metadata": {
            "tags": [],
            "needs_background": "light"
          }
        }
      ]
    },
    {
      "cell_type": "code",
      "metadata": {
        "id": "l9qufzAwS3dN",
        "outputId": "66502030-1d6c-43d2-fc45-5cc7705bf2d8",
        "colab": {
          "base_uri": "https://localhost:8080/",
          "height": 295
        }
      },
      "source": [
        "# we see an unusual peak at month 9\n",
        "# for now, let's drop it to better view the overall trend\n",
        "prices = prices.drop([9])\n",
        "plt.title('Price Trend over the Entire Time Horizon (outlier removed)')\n",
        "plt.xlabel('month #')\n",
        "plt.ylabel('average price')\n",
        "plt.plot(prices);"
      ],
      "execution_count": null,
      "outputs": [
        {
          "output_type": "display_data",
          "data": {
            "image/png": "[encoded data removed]",
            "text/plain": [
              "<Figure size 432x288 with 1 Axes>"
            ]
          },
          "metadata": {
            "tags": [],
            "needs_background": "light"
          }
        }
      ]
    },
    {
      "cell_type": "code",
      "metadata": {
        "id": "sWcVjoxah57I",
        "outputId": "26e0eb89-638a-40c7-b5be-500df1b5d1ee",
        "colab": {
          "base_uri": "https://localhost:8080/",
          "height": 296
        }
      },
      "source": [
        "prices_agg = pd.DataFrame(sales.groupby(['year','month'])['item_price'].mean().reset_index())\n",
        "prices_agg = prices_agg.drop(prices_agg.index[9])\n",
        "sns.pointplot(x='month', y='item_price', hue='year', data=prices_agg)"
      ],
      "execution_count": null,
      "outputs": [
        {
          "output_type": "execute_result",
          "data": {
            "text/plain": [
              "<matplotlib.axes._subplots.AxesSubplot at 0x7f4e43b106d8>"
            ]
          },
          "metadata": {
            "tags": []
          },
          "execution_count": 54
        },
        {
          "output_type": "display_data",
          "data": {
            "image/png": "[encoded data removed]",
            "text/plain": [
              "<Figure size 432x288 with 1 Axes>"
            ]
          },
          "metadata": {
            "tags": [],
            "needs_background": "light"
          }
        }
      ]
    },
    {
      "cell_type": "markdown",
      "metadata": {
        "id": "T1blUm2hhpsG"
      },
      "source": [
        "## Outlier Detection"
      ]
    },
    {
      "cell_type": "code",
      "metadata": {
        "id": "TcvOOoDlIKk9",
        "outputId": "8a2cd30b-af3a-4b1e-938e-60ea1299494f",
        "colab": {
          "base_uri": "https://localhost:8080/",
          "height": 596
        }
      },
      "source": [
        "sns.jointplot(x=\"item_cnt_day\", y=\"item_price\", data=sales, height=8)\n",
        "plt.show()"
      ],
      "execution_count": null,
      "outputs": [
        {
          "output_type": "display_data",
          "data": {
            "image/png": "[encoded data removed]",
            "text/plain": [
              "<Figure size 576x576 with 3 Axes>"
            ]
          },
          "metadata": {
            "tags": [],
            "needs_background": "light"
          }
        }
      ]
    },
    {
      "cell_type": "code",
      "metadata": {
        "id": "vIri1IYoQhzK",
        "outputId": "213b8700-3a71-4272-fdd0-5e821cda3584",
        "colab": {
          "base_uri": "https://localhost:8080/",
          "height": 357
        }
      },
      "source": [
        "print('# of items summary:',sales.item_cnt_day.describe())\n",
        "print('\\n\\nitem price summary:',sales.item_price.describe())"
      ],
      "execution_count": null,
      "outputs": [
        {
          "output_type": "stream",
          "text": [
            "# of items summary: count    2.928442e+06\n",
            "mean     1.248342e+00\n",
            "std      2.619608e+00\n",
            "min      1.000000e+00\n",
            "25%      1.000000e+00\n",
            "50%      1.000000e+00\n",
            "75%      1.000000e+00\n",
            "max      2.169000e+03\n",
            "Name: item_cnt_day, dtype: float64\n",
            "\n",
            "\n",
            "item price summary: count    2.928442e+06\n",
            "mean     3.377036e+03\n",
            "std      2.620693e+04\n",
            "min      7.000000e-02\n",
            "25%      2.490000e+02\n",
            "50%      4.190000e+02\n",
            "75%      1.044670e+03\n",
            "max      4.200000e+06\n",
            "Name: item_price, dtype: float64\n"
          ],
          "name": "stdout"
        }
      ]
    },
    {
      "cell_type": "code",
      "metadata": {
        "id": "Tgqr7CSTYSQX",
        "outputId": "b233cbec-b0da-4301-9176-3c7398c3cdd3",
        "colab": {
          "base_uri": "https://localhost:8080/",
          "height": 293
        }
      },
      "source": [
        "sales.item_cnt_day.hist(bins=100)"
      ],
      "execution_count": null,
      "outputs": [
        {
          "output_type": "execute_result",
          "data": {
            "text/plain": [
              "<matplotlib.axes._subplots.AxesSubplot at 0x7f4e43663dd8>"
            ]
          },
          "metadata": {
            "tags": []
          },
          "execution_count": 57
        },
        {
          "output_type": "display_data",
          "data": {
            "image/png": "[encoded data removed]",
            "text/plain": [
              "<Figure size 432x288 with 1 Axes>"
            ]
          },
          "metadata": {
            "tags": [],
            "needs_background": "light"
          }
        }
      ]
    },
    {
      "cell_type": "code",
      "metadata": {
        "id": "C51Mdszlbw-P",
        "outputId": "d64cc668-585a-46d9-dba9-44ac0e05f1ed",
        "colab": {
          "base_uri": "https://localhost:8080/",
          "height": 306
        }
      },
      "source": [
        "sales.item_price.hist(bins=50)"
      ],
      "execution_count": null,
      "outputs": [
        {
          "output_type": "execute_result",
          "data": {
            "text/plain": [
              "<matplotlib.axes._subplots.AxesSubplot at 0x7f4e44029208>"
            ]
          },
          "metadata": {
            "tags": []
          },
          "execution_count": 58
        },
        {
          "output_type": "display_data",
          "data": {
            "image/png": "[encoded data removed]",
            "text/plain": [
              "<Figure size 432x288 with 1 Axes>"
            ]
          },
          "metadata": {
            "tags": [],
            "needs_background": "light"
          }
        }
      ]
    },
    {
      "cell_type": "markdown",
      "metadata": {
        "id": "W381wFUfbN1z"
      },
      "source": [
        "Outliers: item_cnt_day > 150, price > 100,000"
      ]
    },
    {
      "cell_type": "code",
      "metadata": {
        "id": "GAikxUmsYSpr",
        "outputId": "7d34299b-8973-4730-9492-6fe18200b60e",
        "colab": {
          "base_uri": "https://localhost:8080/",
          "height": 51
        }
      },
      "source": [
        "print('Sales shape before remove outliers:', sales.shape)\n",
        "sales = sales[sales['item_cnt_day'] <= 150]\n",
        "sales = sales[sales['item_price'] <= 100000]\n",
        "print('Sales shape after remove outliers:', sales.shape)"
      ],
      "execution_count": null,
      "outputs": [
        {
          "output_type": "stream",
          "text": [
            "Sales shape before remove outliers: (2928442, 8)\n",
            "Sales shape after remove outliers: (2909577, 8)\n"
          ],
          "name": "stdout"
        }
      ]
    },
    {
      "cell_type": "code",
      "metadata": {
        "id": "3H0UjNvyQhqs",
        "outputId": "f3a7ced9-9205-4150-f424-368e6ca186eb",
        "colab": {
          "base_uri": "https://localhost:8080/",
          "height": 596
        }
      },
      "source": [
        "sns.jointplot(x=\"item_cnt_day\", y=\"item_price\", data=sales, height=8)\n",
        "plt.show()"
      ],
      "execution_count": null,
      "outputs": [
        {
          "output_type": "display_data",
          "data": {
            "image/png": "[encoded data removed]",
            "text/plain": [
              "<Figure size 576x576 with 3 Axes>"
            ]
          },
          "metadata": {
            "tags": [],
            "needs_background": "light"
          }
        }
      ]
    },
    {
      "cell_type": "code",
      "metadata": {
        "id": "PsGHQ5hOIKcd",
        "outputId": "91d8b0db-c799-4339-afee-3772969a09d1",
        "colab": {
          "base_uri": "https://localhost:8080/",
          "height": 296
        }
      },
      "source": [
        "sales_cleaned = pd.DataFrame(sales.groupby(['year','month'])['item_cnt_day'].sum().reset_index())\n",
        "indexNames = sales_cleaned[(sales_cleaned['year']=='2015') & (sales_cleaned['month']>'10')].index\n",
        "sales_cleaned.drop(indexNames,inplace = True)\n",
        "sns.pointplot(x='month', y='item_cnt_day', hue='year', data=sales_cleaned)"
      ],
      "execution_count": null,
      "outputs": [
        {
          "output_type": "execute_result",
          "data": {
            "text/plain": [
              "<matplotlib.axes._subplots.AxesSubplot at 0x7f4e1d8ac080>"
            ]
          },
          "metadata": {
            "tags": []
          },
          "execution_count": 61
        },
        {
          "output_type": "display_data",
          "data": {
            "image/png": "[encoded data removed]",
            "text/plain": [
              "<Figure size 432x288 with 1 Axes>"
            ]
          },
          "metadata": {
            "tags": [],
            "needs_background": "light"
          }
        }
      ]
    },
    {
      "cell_type": "markdown",
      "metadata": {
        "id": "j1CL9gz5fwf9"
      },
      "source": [
        "# Model Training"
      ]
    },
    {
      "cell_type": "code",
      "metadata": {
        "id": "u7kUtvUICDU2",
        "outputId": "bdb6e076-6272-49c9-a6fe-6a59e2d540b2",
        "colab": {
          "base_uri": "https://localhost:8080/",
          "height": 255
        }
      },
      "source": [
        "sales = sales[sales['shop_id'] != 0]\n",
        "\n",
        "sales_pivot = sales.pivot_table(index = ['shop_id','item_id'],\n",
        "                                 values = ['item_cnt_day'],\n",
        "                                 columns = ['date_block_num'],\n",
        "                                 fill_value = 0,aggfunc='sum')\n",
        "sales_pivot.reset_index(inplace = True)\n",
        "sales_pivot.head()"
      ],
      "execution_count": null,
      "outputs": [
        {
          "output_type": "execute_result",
          "data": {
            "text/html": [
              "<div>\n",
              "<style scoped>\n",
              "    .dataframe tbody tr th:only-of-type {\n",
              "        vertical-align: middle;\n",
              "    }\n",
              "\n",
              "    .dataframe tbody tr th {\n",
              "        vertical-align: top;\n",
              "    }\n",
              "\n",
              "    .dataframe thead tr th {\n",
              "        text-align: left;\n",
              "    }\n",
              "</style>\n",
              "<table border=\"1\" class=\"dataframe\">\n",
              "  <thead>\n",
              "    <tr>\n",
              "      <th></th>\n",
              "      <th>shop_id</th>\n",
              "      <th>item_id</th>\n",
              "      <th colspan=\"34\" halign=\"left\">item_cnt_day</th>\n",
              "    </tr>\n",
              "    <tr>\n",
              "      <th>date_block_num</th>\n",
              "      <th></th>\n",
              "      <th></th>\n",
              "      <th>0</th>\n",
              "      <th>1</th>\n",
              "      <th>2</th>\n",
              "      <th>3</th>\n",
              "      <th>4</th>\n",
              "      <th>5</th>\n",
              "      <th>6</th>\n",
              "      <th>7</th>\n",
              "      <th>8</th>\n",
              "      <th>9</th>\n",
              "      <th>10</th>\n",
              "      <th>11</th>\n",
              "      <th>12</th>\n",
              "      <th>13</th>\n",
              "      <th>14</th>\n",
              "      <th>15</th>\n",
              "      <th>16</th>\n",
              "      <th>17</th>\n",
              "      <th>18</th>\n",
              "      <th>19</th>\n",
              "      <th>20</th>\n",
              "      <th>21</th>\n",
              "      <th>22</th>\n",
              "      <th>23</th>\n",
              "      <th>24</th>\n",
              "      <th>25</th>\n",
              "      <th>26</th>\n",
              "      <th>27</th>\n",
              "      <th>28</th>\n",
              "      <th>29</th>\n",
              "      <th>30</th>\n",
              "      <th>31</th>\n",
              "      <th>32</th>\n",
              "      <th>33</th>\n",
              "    </tr>\n",
              "  </thead>\n",
              "  <tbody>\n",
              "    <tr>\n",
              "      <th>0</th>\n",
              "      <td>1</td>\n",
              "      <td>27</td>\n",
              "      <td>1</td>\n",
              "      <td>0</td>\n",
              "      <td>0</td>\n",
              "      <td>0</td>\n",
              "      <td>0</td>\n",
              "      <td>0</td>\n",
              "      <td>0</td>\n",
              "      <td>0</td>\n",
              "      <td>0</td>\n",
              "      <td>0</td>\n",
              "      <td>0</td>\n",
              "      <td>0</td>\n",
              "      <td>0</td>\n",
              "      <td>0</td>\n",
              "      <td>0</td>\n",
              "      <td>0</td>\n",
              "      <td>0</td>\n",
              "      <td>0</td>\n",
              "      <td>0</td>\n",
              "      <td>0</td>\n",
              "      <td>0</td>\n",
              "      <td>0</td>\n",
              "      <td>0</td>\n",
              "      <td>0</td>\n",
              "      <td>0</td>\n",
              "      <td>0</td>\n",
              "      <td>0</td>\n",
              "      <td>0</td>\n",
              "      <td>0</td>\n",
              "      <td>0</td>\n",
              "      <td>0</td>\n",
              "      <td>0</td>\n",
              "      <td>0</td>\n",
              "      <td>0</td>\n",
              "    </tr>\n",
              "    <tr>\n",
              "      <th>1</th>\n",
              "      <td>1</td>\n",
              "      <td>29</td>\n",
              "      <td>1</td>\n",
              "      <td>0</td>\n",
              "      <td>0</td>\n",
              "      <td>0</td>\n",
              "      <td>0</td>\n",
              "      <td>0</td>\n",
              "      <td>0</td>\n",
              "      <td>0</td>\n",
              "      <td>0</td>\n",
              "      <td>0</td>\n",
              "      <td>0</td>\n",
              "      <td>0</td>\n",
              "      <td>0</td>\n",
              "      <td>0</td>\n",
              "      <td>0</td>\n",
              "      <td>0</td>\n",
              "      <td>0</td>\n",
              "      <td>0</td>\n",
              "      <td>0</td>\n",
              "      <td>0</td>\n",
              "      <td>0</td>\n",
              "      <td>0</td>\n",
              "      <td>0</td>\n",
              "      <td>0</td>\n",
              "      <td>0</td>\n",
              "      <td>0</td>\n",
              "      <td>0</td>\n",
              "      <td>0</td>\n",
              "      <td>0</td>\n",
              "      <td>0</td>\n",
              "      <td>0</td>\n",
              "      <td>0</td>\n",
              "      <td>0</td>\n",
              "      <td>0</td>\n",
              "    </tr>\n",
              "    <tr>\n",
              "      <th>2</th>\n",
              "      <td>1</td>\n",
              "      <td>30</td>\n",
              "      <td>0</td>\n",
              "      <td>10</td>\n",
              "      <td>0</td>\n",
              "      <td>0</td>\n",
              "      <td>0</td>\n",
              "      <td>0</td>\n",
              "      <td>0</td>\n",
              "      <td>0</td>\n",
              "      <td>0</td>\n",
              "      <td>0</td>\n",
              "      <td>0</td>\n",
              "      <td>0</td>\n",
              "      <td>0</td>\n",
              "      <td>0</td>\n",
              "      <td>0</td>\n",
              "      <td>0</td>\n",
              "      <td>0</td>\n",
              "      <td>0</td>\n",
              "      <td>0</td>\n",
              "      <td>0</td>\n",
              "      <td>0</td>\n",
              "      <td>0</td>\n",
              "      <td>0</td>\n",
              "      <td>0</td>\n",
              "      <td>0</td>\n",
              "      <td>0</td>\n",
              "      <td>0</td>\n",
              "      <td>0</td>\n",
              "      <td>0</td>\n",
              "      <td>0</td>\n",
              "      <td>0</td>\n",
              "      <td>0</td>\n",
              "      <td>0</td>\n",
              "      <td>0</td>\n",
              "    </tr>\n",
              "    <tr>\n",
              "      <th>3</th>\n",
              "      <td>1</td>\n",
              "      <td>31</td>\n",
              "      <td>0</td>\n",
              "      <td>4</td>\n",
              "      <td>0</td>\n",
              "      <td>0</td>\n",
              "      <td>0</td>\n",
              "      <td>0</td>\n",
              "      <td>0</td>\n",
              "      <td>0</td>\n",
              "      <td>0</td>\n",
              "      <td>0</td>\n",
              "      <td>0</td>\n",
              "      <td>0</td>\n",
              "      <td>0</td>\n",
              "      <td>0</td>\n",
              "      <td>0</td>\n",
              "      <td>0</td>\n",
              "      <td>0</td>\n",
              "      <td>0</td>\n",
              "      <td>0</td>\n",
              "      <td>0</td>\n",
              "      <td>0</td>\n",
              "      <td>0</td>\n",
              "      <td>0</td>\n",
              "      <td>0</td>\n",
              "      <td>0</td>\n",
              "      <td>0</td>\n",
              "      <td>0</td>\n",
              "      <td>0</td>\n",
              "      <td>0</td>\n",
              "      <td>0</td>\n",
              "      <td>0</td>\n",
              "      <td>0</td>\n",
              "      <td>0</td>\n",
              "      <td>0</td>\n",
              "    </tr>\n",
              "    <tr>\n",
              "      <th>4</th>\n",
              "      <td>1</td>\n",
              "      <td>32</td>\n",
              "      <td>7</td>\n",
              "      <td>3</td>\n",
              "      <td>0</td>\n",
              "      <td>0</td>\n",
              "      <td>0</td>\n",
              "      <td>0</td>\n",
              "      <td>0</td>\n",
              "      <td>0</td>\n",
              "      <td>0</td>\n",
              "      <td>0</td>\n",
              "      <td>0</td>\n",
              "      <td>0</td>\n",
              "      <td>0</td>\n",
              "      <td>0</td>\n",
              "      <td>0</td>\n",
              "      <td>0</td>\n",
              "      <td>0</td>\n",
              "      <td>0</td>\n",
              "      <td>0</td>\n",
              "      <td>0</td>\n",
              "      <td>0</td>\n",
              "      <td>0</td>\n",
              "      <td>0</td>\n",
              "      <td>0</td>\n",
              "      <td>0</td>\n",
              "      <td>0</td>\n",
              "      <td>0</td>\n",
              "      <td>0</td>\n",
              "      <td>0</td>\n",
              "      <td>0</td>\n",
              "      <td>0</td>\n",
              "      <td>0</td>\n",
              "      <td>0</td>\n",
              "      <td>0</td>\n",
              "    </tr>\n",
              "  </tbody>\n",
              "</table>\n",
              "</div>"
            ],
            "text/plain": [
              "               shop_id item_id item_cnt_day               ...                     \n",
              "date_block_num                            0   1  2  3  4  ... 27 28 29 30 31 32 33\n",
              "0                    1      27            1   0  0  0  0  ...  0  0  0  0  0  0  0\n",
              "1                    1      29            1   0  0  0  0  ...  0  0  0  0  0  0  0\n",
              "2                    1      30            0  10  0  0  0  ...  0  0  0  0  0  0  0\n",
              "3                    1      31            0   4  0  0  0  ...  0  0  0  0  0  0  0\n",
              "4                    1      32            7   3  0  0  0  ...  0  0  0  0  0  0  0\n",
              "\n",
              "[5 rows x 36 columns]"
            ]
          },
          "metadata": {
            "tags": []
          },
          "execution_count": 28
        }
      ]
    },
    {
      "cell_type": "code",
      "metadata": {
        "id": "71i1CgcCMYvj",
        "outputId": "25913655-bd77-4255-caf3-dbc6c7d16d70",
        "colab": {
          "base_uri": "https://localhost:8080/",
          "height": 235
        }
      },
      "source": [
        "indices = sales_pivot[['shop_id','item_id']]\n",
        "indices.head()"
      ],
      "execution_count": null,
      "outputs": [
        {
          "output_type": "execute_result",
          "data": {
            "text/html": [
              "<div>\n",
              "<style scoped>\n",
              "    .dataframe tbody tr th:only-of-type {\n",
              "        vertical-align: middle;\n",
              "    }\n",
              "\n",
              "    .dataframe tbody tr th {\n",
              "        vertical-align: top;\n",
              "    }\n",
              "\n",
              "    .dataframe thead tr th {\n",
              "        text-align: left;\n",
              "    }\n",
              "</style>\n",
              "<table border=\"1\" class=\"dataframe\">\n",
              "  <thead>\n",
              "    <tr>\n",
              "      <th></th>\n",
              "      <th>shop_id</th>\n",
              "      <th>item_id</th>\n",
              "    </tr>\n",
              "    <tr>\n",
              "      <th>date_block_num</th>\n",
              "      <th></th>\n",
              "      <th></th>\n",
              "    </tr>\n",
              "  </thead>\n",
              "  <tbody>\n",
              "    <tr>\n",
              "      <th>0</th>\n",
              "      <td>1</td>\n",
              "      <td>27</td>\n",
              "    </tr>\n",
              "    <tr>\n",
              "      <th>1</th>\n",
              "      <td>1</td>\n",
              "      <td>29</td>\n",
              "    </tr>\n",
              "    <tr>\n",
              "      <th>2</th>\n",
              "      <td>1</td>\n",
              "      <td>30</td>\n",
              "    </tr>\n",
              "    <tr>\n",
              "      <th>3</th>\n",
              "      <td>1</td>\n",
              "      <td>31</td>\n",
              "    </tr>\n",
              "    <tr>\n",
              "      <th>4</th>\n",
              "      <td>1</td>\n",
              "      <td>32</td>\n",
              "    </tr>\n",
              "  </tbody>\n",
              "</table>\n",
              "</div>"
            ],
            "text/plain": [
              "               shop_id item_id\n",
              "date_block_num                \n",
              "0                    1      27\n",
              "1                    1      29\n",
              "2                    1      30\n",
              "3                    1      31\n",
              "4                    1      32"
            ]
          },
          "metadata": {
            "tags": []
          },
          "execution_count": 29
        }
      ]
    },
    {
      "cell_type": "code",
      "metadata": {
        "id": "nT_8pD33D7Nc",
        "outputId": "ed0a85a4-b520-432d-e1db-1c3c8675358c",
        "colab": {
          "base_uri": "https://localhost:8080/",
          "height": 289
        }
      },
      "source": [
        "sales_pivot.drop(['shop_id','item_id'],inplace = True, axis = 1)\n",
        "sales_pivot = sales_pivot.rename(columns={'item_cnt_day':'monthly_sales'})\n",
        "sales_pivot.head()"
      ],
      "execution_count": null,
      "outputs": [
        {
          "output_type": "stream",
          "text": [
            "/usr/local/lib/python3.6/dist-packages/pandas/core/generic.py:3884: PerformanceWarning: dropping on a non-lexsorted multi-index without a level parameter may impact performance.\n",
            "  obj = obj._drop_axis(labels, axis, level=level, errors=errors)\n"
          ],
          "name": "stderr"
        },
        {
          "output_type": "execute_result",
          "data": {
            "text/html": [
              "<div>\n",
              "<style scoped>\n",
              "    .dataframe tbody tr th:only-of-type {\n",
              "        vertical-align: middle;\n",
              "    }\n",
              "\n",
              "    .dataframe tbody tr th {\n",
              "        vertical-align: top;\n",
              "    }\n",
              "\n",
              "    .dataframe thead tr th {\n",
              "        text-align: left;\n",
              "    }\n",
              "</style>\n",
              "<table border=\"1\" class=\"dataframe\">\n",
              "  <thead>\n",
              "    <tr>\n",
              "      <th></th>\n",
              "      <th colspan=\"34\" halign=\"left\">monthly_sales</th>\n",
              "    </tr>\n",
              "    <tr>\n",
              "      <th>date_block_num</th>\n",
              "      <th>0</th>\n",
              "      <th>1</th>\n",
              "      <th>2</th>\n",
              "      <th>3</th>\n",
              "      <th>4</th>\n",
              "      <th>5</th>\n",
              "      <th>6</th>\n",
              "      <th>7</th>\n",
              "      <th>8</th>\n",
              "      <th>9</th>\n",
              "      <th>10</th>\n",
              "      <th>11</th>\n",
              "      <th>12</th>\n",
              "      <th>13</th>\n",
              "      <th>14</th>\n",
              "      <th>15</th>\n",
              "      <th>16</th>\n",
              "      <th>17</th>\n",
              "      <th>18</th>\n",
              "      <th>19</th>\n",
              "      <th>20</th>\n",
              "      <th>21</th>\n",
              "      <th>22</th>\n",
              "      <th>23</th>\n",
              "      <th>24</th>\n",
              "      <th>25</th>\n",
              "      <th>26</th>\n",
              "      <th>27</th>\n",
              "      <th>28</th>\n",
              "      <th>29</th>\n",
              "      <th>30</th>\n",
              "      <th>31</th>\n",
              "      <th>32</th>\n",
              "      <th>33</th>\n",
              "    </tr>\n",
              "  </thead>\n",
              "  <tbody>\n",
              "    <tr>\n",
              "      <th>0</th>\n",
              "      <td>1</td>\n",
              "      <td>0</td>\n",
              "      <td>0</td>\n",
              "      <td>0</td>\n",
              "      <td>0</td>\n",
              "      <td>0</td>\n",
              "      <td>0</td>\n",
              "      <td>0</td>\n",
              "      <td>0</td>\n",
              "      <td>0</td>\n",
              "      <td>0</td>\n",
              "      <td>0</td>\n",
              "      <td>0</td>\n",
              "      <td>0</td>\n",
              "      <td>0</td>\n",
              "      <td>0</td>\n",
              "      <td>0</td>\n",
              "      <td>0</td>\n",
              "      <td>0</td>\n",
              "      <td>0</td>\n",
              "      <td>0</td>\n",
              "      <td>0</td>\n",
              "      <td>0</td>\n",
              "      <td>0</td>\n",
              "      <td>0</td>\n",
              "      <td>0</td>\n",
              "      <td>0</td>\n",
              "      <td>0</td>\n",
              "      <td>0</td>\n",
              "      <td>0</td>\n",
              "      <td>0</td>\n",
              "      <td>0</td>\n",
              "      <td>0</td>\n",
              "      <td>0</td>\n",
              "    </tr>\n",
              "    <tr>\n",
              "      <th>1</th>\n",
              "      <td>1</td>\n",
              "      <td>0</td>\n",
              "      <td>0</td>\n",
              "      <td>0</td>\n",
              "      <td>0</td>\n",
              "      <td>0</td>\n",
              "      <td>0</td>\n",
              "      <td>0</td>\n",
              "      <td>0</td>\n",
              "      <td>0</td>\n",
              "      <td>0</td>\n",
              "      <td>0</td>\n",
              "      <td>0</td>\n",
              "      <td>0</td>\n",
              "      <td>0</td>\n",
              "      <td>0</td>\n",
              "      <td>0</td>\n",
              "      <td>0</td>\n",
              "      <td>0</td>\n",
              "      <td>0</td>\n",
              "      <td>0</td>\n",
              "      <td>0</td>\n",
              "      <td>0</td>\n",
              "      <td>0</td>\n",
              "      <td>0</td>\n",
              "      <td>0</td>\n",
              "      <td>0</td>\n",
              "      <td>0</td>\n",
              "      <td>0</td>\n",
              "      <td>0</td>\n",
              "      <td>0</td>\n",
              "      <td>0</td>\n",
              "      <td>0</td>\n",
              "      <td>0</td>\n",
              "    </tr>\n",
              "    <tr>\n",
              "      <th>2</th>\n",
              "      <td>0</td>\n",
              "      <td>10</td>\n",
              "      <td>0</td>\n",
              "      <td>0</td>\n",
              "      <td>0</td>\n",
              "      <td>0</td>\n",
              "      <td>0</td>\n",
              "      <td>0</td>\n",
              "      <td>0</td>\n",
              "      <td>0</td>\n",
              "      <td>0</td>\n",
              "      <td>0</td>\n",
              "      <td>0</td>\n",
              "      <td>0</td>\n",
              "      <td>0</td>\n",
              "      <td>0</td>\n",
              "      <td>0</td>\n",
              "      <td>0</td>\n",
              "      <td>0</td>\n",
              "      <td>0</td>\n",
              "      <td>0</td>\n",
              "      <td>0</td>\n",
              "      <td>0</td>\n",
              "      <td>0</td>\n",
              "      <td>0</td>\n",
              "      <td>0</td>\n",
              "      <td>0</td>\n",
              "      <td>0</td>\n",
              "      <td>0</td>\n",
              "      <td>0</td>\n",
              "      <td>0</td>\n",
              "      <td>0</td>\n",
              "      <td>0</td>\n",
              "      <td>0</td>\n",
              "    </tr>\n",
              "    <tr>\n",
              "      <th>3</th>\n",
              "      <td>0</td>\n",
              "      <td>4</td>\n",
              "      <td>0</td>\n",
              "      <td>0</td>\n",
              "      <td>0</td>\n",
              "      <td>0</td>\n",
              "      <td>0</td>\n",
              "      <td>0</td>\n",
              "      <td>0</td>\n",
              "      <td>0</td>\n",
              "      <td>0</td>\n",
              "      <td>0</td>\n",
              "      <td>0</td>\n",
              "      <td>0</td>\n",
              "      <td>0</td>\n",
              "      <td>0</td>\n",
              "      <td>0</td>\n",
              "      <td>0</td>\n",
              "      <td>0</td>\n",
              "      <td>0</td>\n",
              "      <td>0</td>\n",
              "      <td>0</td>\n",
              "      <td>0</td>\n",
              "      <td>0</td>\n",
              "      <td>0</td>\n",
              "      <td>0</td>\n",
              "      <td>0</td>\n",
              "      <td>0</td>\n",
              "      <td>0</td>\n",
              "      <td>0</td>\n",
              "      <td>0</td>\n",
              "      <td>0</td>\n",
              "      <td>0</td>\n",
              "      <td>0</td>\n",
              "    </tr>\n",
              "    <tr>\n",
              "      <th>4</th>\n",
              "      <td>7</td>\n",
              "      <td>3</td>\n",
              "      <td>0</td>\n",
              "      <td>0</td>\n",
              "      <td>0</td>\n",
              "      <td>0</td>\n",
              "      <td>0</td>\n",
              "      <td>0</td>\n",
              "      <td>0</td>\n",
              "      <td>0</td>\n",
              "      <td>0</td>\n",
              "      <td>0</td>\n",
              "      <td>0</td>\n",
              "      <td>0</td>\n",
              "      <td>0</td>\n",
              "      <td>0</td>\n",
              "      <td>0</td>\n",
              "      <td>0</td>\n",
              "      <td>0</td>\n",
              "      <td>0</td>\n",
              "      <td>0</td>\n",
              "      <td>0</td>\n",
              "      <td>0</td>\n",
              "      <td>0</td>\n",
              "      <td>0</td>\n",
              "      <td>0</td>\n",
              "      <td>0</td>\n",
              "      <td>0</td>\n",
              "      <td>0</td>\n",
              "      <td>0</td>\n",
              "      <td>0</td>\n",
              "      <td>0</td>\n",
              "      <td>0</td>\n",
              "      <td>0</td>\n",
              "    </tr>\n",
              "  </tbody>\n",
              "</table>\n",
              "</div>"
            ],
            "text/plain": [
              "               monthly_sales                        ...                        \n",
              "date_block_num            0   1  2  3  4  5  6  7   ... 26 27 28 29 30 31 32 33\n",
              "0                          1   0  0  0  0  0  0  0  ...  0  0  0  0  0  0  0  0\n",
              "1                          1   0  0  0  0  0  0  0  ...  0  0  0  0  0  0  0  0\n",
              "2                          0  10  0  0  0  0  0  0  ...  0  0  0  0  0  0  0  0\n",
              "3                          0   4  0  0  0  0  0  0  ...  0  0  0  0  0  0  0  0\n",
              "4                          7   3  0  0  0  0  0  0  ...  0  0  0  0  0  0  0  0\n",
              "\n",
              "[5 rows x 34 columns]"
            ]
          },
          "metadata": {
            "tags": []
          },
          "execution_count": 30
        }
      ]
    },
    {
      "cell_type": "code",
      "metadata": {
        "id": "TfT69waXHFKK",
        "outputId": "d2702a39-1c56-4bee-bc39-ff945ae9b505",
        "colab": {
          "base_uri": "https://localhost:8080/",
          "height": 34
        }
      },
      "source": [
        "# the first 33 months are for training\n",
        "X_train = np.expand_dims(sales_pivot.values[:,:-1],axis = 2)\n",
        "\n",
        "# the last column is our labels\n",
        "y_train = sales_pivot.values[:,-1:]\n",
        "\n",
        "# test set consists of all columns except the first\n",
        "X_test = np.expand_dims(sales_pivot.values[:,1:],axis = 2)\n",
        "\n",
        "print(X_train.shape,y_train.shape,X_test.shape)"
      ],
      "execution_count": null,
      "outputs": [
        {
          "output_type": "stream",
          "text": [
            "(419860, 33, 1) (419860, 1) (419860, 33, 1)\n"
          ],
          "name": "stdout"
        }
      ]
    },
    {
      "cell_type": "code",
      "metadata": {
        "id": "3w8dUTySHFoV",
        "outputId": "a242195a-93eb-41c5-ffaf-d0f9f1b89e19",
        "colab": {
          "base_uri": "https://localhost:8080/",
          "height": 255
        }
      },
      "source": [
        "# create our LSTM model\n",
        "model = Sequential()\n",
        "model.add(LSTM(units = 64,input_shape = (33,1),activation='relu'))\n",
        "\n",
        "# dropout set to be 40%\n",
        "model.add(Dropout(0.4))\n",
        "model.add(Dense(1))\n",
        "\n",
        "# loss function is MSE\n",
        "model.compile(loss = 'mse',optimizer = 'adam', metrics = ['mean_squared_error'])\n",
        "model.summary()"
      ],
      "execution_count": null,
      "outputs": [
        {
          "output_type": "stream",
          "text": [
            "Model: \"sequential_1\"\n",
            "_________________________________________________________________\n",
            "Layer (type)                 Output Shape              Param #   \n",
            "=================================================================\n",
            "lstm_1 (LSTM)                (None, 64)                16896     \n",
            "_________________________________________________________________\n",
            "dropout_1 (Dropout)          (None, 64)                0         \n",
            "_________________________________________________________________\n",
            "dense_1 (Dense)              (None, 1)                 65        \n",
            "=================================================================\n",
            "Total params: 16,961\n",
            "Trainable params: 16,961\n",
            "Non-trainable params: 0\n",
            "_________________________________________________________________\n"
          ],
          "name": "stdout"
        }
      ]
    },
    {
      "cell_type": "code",
      "metadata": {
        "id": "aSDfgk2cHF2s",
        "outputId": "753f008f-584e-47a3-9fc2-e7e38f489cde",
        "colab": {
          "base_uri": "https://localhost:8080/",
          "height": 357
        }
      },
      "source": [
        "# the model is fit for 10 training epochs with a batch size of 4096 each\n",
        "trained = model.fit(X_train,y_train,batch_size = 4096,epochs = 10)"
      ],
      "execution_count": null,
      "outputs": [
        {
          "output_type": "stream",
          "text": [
            "Epoch 1/10\n",
            "103/103 [==============================] - 64s 618ms/step - loss: 3.2493 - mean_squared_error: 3.2493\n",
            "Epoch 2/10\n",
            "103/103 [==============================] - 66s 640ms/step - loss: 3.3025 - mean_squared_error: 3.3025\n",
            "Epoch 3/10\n",
            "103/103 [==============================] - 63s 614ms/step - loss: 2.7934 - mean_squared_error: 2.7934\n",
            "Epoch 4/10\n",
            "103/103 [==============================] - 63s 608ms/step - loss: 2.7832 - mean_squared_error: 2.7832\n",
            "Epoch 5/10\n",
            "103/103 [==============================] - 63s 615ms/step - loss: 2.6291 - mean_squared_error: 2.6291\n",
            "Epoch 6/10\n",
            "103/103 [==============================] - 64s 623ms/step - loss: 2.6420 - mean_squared_error: 2.6420\n",
            "Epoch 7/10\n",
            "103/103 [==============================] - 63s 615ms/step - loss: 2.6135 - mean_squared_error: 2.6135\n",
            "Epoch 8/10\n",
            "103/103 [==============================] - 64s 625ms/step - loss: 2.9545 - mean_squared_error: 2.9545\n",
            "Epoch 9/10\n",
            "103/103 [==============================] - 63s 613ms/step - loss: 2.2510 - mean_squared_error: 2.2510\n",
            "Epoch 10/10\n",
            "103/103 [==============================] - 63s 616ms/step - loss: 2.3761 - mean_squared_error: 2.3761\n"
          ],
          "name": "stdout"
        }
      ]
    },
    {
      "cell_type": "markdown",
      "metadata": {
        "id": "KtyKp3BE1SkO"
      },
      "source": [
        "# Prediction"
      ]
    },
    {
      "cell_type": "code",
      "metadata": {
        "id": "tQIzGRNVHFPT"
      },
      "source": [
        "prediction = model.predict(X_test)"
      ],
      "execution_count": null,
      "outputs": []
    },
    {
      "cell_type": "code",
      "metadata": {
        "id": "Rya5HQHCUitp"
      },
      "source": [
        "prediction_df = pd.DataFrame(data=prediction)"
      ],
      "execution_count": null,
      "outputs": []
    },
    {
      "cell_type": "code",
      "metadata": {
        "id": "YtHs2SolHFCS"
      },
      "source": [
        "temp = [indices,prediction_df]"
      ],
      "execution_count": null,
      "outputs": []
    },
    {
      "cell_type": "code",
      "metadata": {
        "id": "izqoAXWyTnkR"
      },
      "source": [
        "prediction_df = pd.concat(temp,axis=1)"
      ],
      "execution_count": null,
      "outputs": []
    },
    {
      "cell_type": "code",
      "metadata": {
        "id": "3q4C0CpQUzih"
      },
      "source": [
        "prediction_df = prediction_df.rename(columns={('shop_id', ''): \"shop_id\", ('item_id', ''): \"item_id\" ,0:\"predicted_monthly_sales\"})"
      ],
      "execution_count": null,
      "outputs": []
    },
    {
      "cell_type": "code",
      "metadata": {
        "id": "iO7dsdldKws3",
        "outputId": "d5449939-a6cc-4cc1-d3f3-9ca57fb77761",
        "colab": {
          "base_uri": "https://localhost:8080/",
          "height": 204
        }
      },
      "source": [
        "prediction_df.head()"
      ],
      "execution_count": null,
      "outputs": [
        {
          "output_type": "execute_result",
          "data": {
            "text/html": [
              "<div>\n",
              "<style scoped>\n",
              "    .dataframe tbody tr th:only-of-type {\n",
              "        vertical-align: middle;\n",
              "    }\n",
              "\n",
              "    .dataframe tbody tr th {\n",
              "        vertical-align: top;\n",
              "    }\n",
              "\n",
              "    .dataframe thead th {\n",
              "        text-align: right;\n",
              "    }\n",
              "</style>\n",
              "<table border=\"1\" class=\"dataframe\">\n",
              "  <thead>\n",
              "    <tr style=\"text-align: right;\">\n",
              "      <th></th>\n",
              "      <th>shop_id</th>\n",
              "      <th>item_id</th>\n",
              "      <th>predicted_monthly_sales</th>\n",
              "    </tr>\n",
              "  </thead>\n",
              "  <tbody>\n",
              "    <tr>\n",
              "      <th>0</th>\n",
              "      <td>1</td>\n",
              "      <td>27</td>\n",
              "      <td>0.094440</td>\n",
              "    </tr>\n",
              "    <tr>\n",
              "      <th>1</th>\n",
              "      <td>1</td>\n",
              "      <td>29</td>\n",
              "      <td>0.094440</td>\n",
              "    </tr>\n",
              "    <tr>\n",
              "      <th>2</th>\n",
              "      <td>1</td>\n",
              "      <td>30</td>\n",
              "      <td>0.088895</td>\n",
              "    </tr>\n",
              "    <tr>\n",
              "      <th>3</th>\n",
              "      <td>1</td>\n",
              "      <td>31</td>\n",
              "      <td>0.091257</td>\n",
              "    </tr>\n",
              "    <tr>\n",
              "      <th>4</th>\n",
              "      <td>1</td>\n",
              "      <td>32</td>\n",
              "      <td>0.092011</td>\n",
              "    </tr>\n",
              "  </tbody>\n",
              "</table>\n",
              "</div>"
            ],
            "text/plain": [
              "   shop_id  item_id  predicted_monthly_sales\n",
              "0        1       27                 0.094440\n",
              "1        1       29                 0.094440\n",
              "2        1       30                 0.088895\n",
              "3        1       31                 0.091257\n",
              "4        1       32                 0.092011"
            ]
          },
          "metadata": {
            "tags": []
          },
          "execution_count": 41
        }
      ]
    },
    {
      "cell_type": "code",
      "metadata": {
        "id": "3qWOFKqWmN2_",
        "outputId": "ea1f029a-9cfa-48a0-db19-518a37a8005c",
        "colab": {
          "base_uri": "https://localhost:8080/",
          "height": 297
        }
      },
      "source": [
        "prediction_df.describe()"
      ],
      "execution_count": null,
      "outputs": [
        {
          "output_type": "execute_result",
          "data": {
            "text/html": [
              "<div>\n",
              "<style scoped>\n",
              "    .dataframe tbody tr th:only-of-type {\n",
              "        vertical-align: middle;\n",
              "    }\n",
              "\n",
              "    .dataframe tbody tr th {\n",
              "        vertical-align: top;\n",
              "    }\n",
              "\n",
              "    .dataframe thead th {\n",
              "        text-align: right;\n",
              "    }\n",
              "</style>\n",
              "<table border=\"1\" class=\"dataframe\">\n",
              "  <thead>\n",
              "    <tr style=\"text-align: right;\">\n",
              "      <th></th>\n",
              "      <th>shop_id</th>\n",
              "      <th>item_id</th>\n",
              "      <th>predicted_monthly_sales</th>\n",
              "    </tr>\n",
              "  </thead>\n",
              "  <tbody>\n",
              "    <tr>\n",
              "      <th>count</th>\n",
              "      <td>419860.000000</td>\n",
              "      <td>419860.000000</td>\n",
              "      <td>419860.000000</td>\n",
              "    </tr>\n",
              "    <tr>\n",
              "      <th>mean</th>\n",
              "      <td>31.711809</td>\n",
              "      <td>11461.199366</td>\n",
              "      <td>0.167818</td>\n",
              "    </tr>\n",
              "    <tr>\n",
              "      <th>std</th>\n",
              "      <td>16.779545</td>\n",
              "      <td>6132.971371</td>\n",
              "      <td>1.115308</td>\n",
              "    </tr>\n",
              "    <tr>\n",
              "      <th>min</th>\n",
              "      <td>1.000000</td>\n",
              "      <td>0.000000</td>\n",
              "      <td>-0.160096</td>\n",
              "    </tr>\n",
              "    <tr>\n",
              "      <th>25%</th>\n",
              "      <td>18.000000</td>\n",
              "      <td>6252.000000</td>\n",
              "      <td>0.091401</td>\n",
              "    </tr>\n",
              "    <tr>\n",
              "      <th>50%</th>\n",
              "      <td>30.000000</td>\n",
              "      <td>11618.000000</td>\n",
              "      <td>0.093413</td>\n",
              "    </tr>\n",
              "    <tr>\n",
              "      <th>75%</th>\n",
              "      <td>46.000000</td>\n",
              "      <td>16663.000000</td>\n",
              "      <td>0.117299</td>\n",
              "    </tr>\n",
              "    <tr>\n",
              "      <th>max</th>\n",
              "      <td>59.000000</td>\n",
              "      <td>22169.000000</td>\n",
              "      <td>545.421692</td>\n",
              "    </tr>\n",
              "  </tbody>\n",
              "</table>\n",
              "</div>"
            ],
            "text/plain": [
              "             shop_id        item_id  predicted_monthly_sales\n",
              "count  419860.000000  419860.000000            419860.000000\n",
              "mean       31.711809   11461.199366                 0.167818\n",
              "std        16.779545    6132.971371                 1.115308\n",
              "min         1.000000       0.000000                -0.160096\n",
              "25%        18.000000    6252.000000                 0.091401\n",
              "50%        30.000000   11618.000000                 0.093413\n",
              "75%        46.000000   16663.000000                 0.117299\n",
              "max        59.000000   22169.000000               545.421692"
            ]
          },
          "metadata": {
            "tags": []
          },
          "execution_count": 42
        }
      ]
    },
    {
      "cell_type": "markdown",
      "metadata": {
        "id": "tK3g7m3v3QrS"
      },
      "source": [
        "# Item Category Insights\n",
        "\n",
        "Plot the sales in Novembers from 2013 to 2015 where the sales in 2015 is the predicted value, categorized by item cateory. \n",
        "\n",
        "The purpose is to see the trends of different categories, and to help develop detailed recommendations. "
      ]
    },
    {
      "cell_type": "code",
      "metadata": {
        "id": "jYflok6sRI8e",
        "outputId": "3a114542-d02b-4c10-9e1d-51cafcc68066",
        "colab": {
          "base_uri": "https://localhost:8080/",
          "height": 204
        }
      },
      "source": [
        "# merge items, item_categories and prediction df to find out sales by cateory\n",
        "items_df = items.rename(columns={'id':'item_id'})\n",
        "items_df.head()\n",
        "item_cat_df = item_categories.rename(columns={'ID':'item_id'})\n",
        "item_cat_df.head()\n",
        "prediction_item_cat = prediction_df.merge(items_df, left_on='item_id',right_on='item_id')\n",
        "prediction_item_cat.head()"
      ],
      "execution_count": 77,
      "outputs": [
        {
          "output_type": "execute_result",
          "data": {
            "text/html": [
              "<div>\n",
              "<style scoped>\n",
              "    .dataframe tbody tr th:only-of-type {\n",
              "        vertical-align: middle;\n",
              "    }\n",
              "\n",
              "    .dataframe tbody tr th {\n",
              "        vertical-align: top;\n",
              "    }\n",
              "\n",
              "    .dataframe thead th {\n",
              "        text-align: right;\n",
              "    }\n",
              "</style>\n",
              "<table border=\"1\" class=\"dataframe\">\n",
              "  <thead>\n",
              "    <tr style=\"text-align: right;\">\n",
              "      <th></th>\n",
              "      <th>shop_id</th>\n",
              "      <th>item_id</th>\n",
              "      <th>predicted_monthly_sales</th>\n",
              "      <th>item_name</th>\n",
              "      <th>category</th>\n",
              "    </tr>\n",
              "  </thead>\n",
              "  <tbody>\n",
              "    <tr>\n",
              "      <th>0</th>\n",
              "      <td>1</td>\n",
              "      <td>27</td>\n",
              "      <td>0.094440</td>\n",
              "      <td>007 Legends [PS3, Russian version]</td>\n",
              "      <td>19</td>\n",
              "    </tr>\n",
              "    <tr>\n",
              "      <th>1</th>\n",
              "      <td>2</td>\n",
              "      <td>27</td>\n",
              "      <td>0.092998</td>\n",
              "      <td>007 Legends [PS3, Russian version]</td>\n",
              "      <td>19</td>\n",
              "    </tr>\n",
              "    <tr>\n",
              "      <th>2</th>\n",
              "      <td>3</td>\n",
              "      <td>27</td>\n",
              "      <td>0.093012</td>\n",
              "      <td>007 Legends [PS3, Russian version]</td>\n",
              "      <td>19</td>\n",
              "    </tr>\n",
              "    <tr>\n",
              "      <th>3</th>\n",
              "      <td>4</td>\n",
              "      <td>27</td>\n",
              "      <td>0.092928</td>\n",
              "      <td>007 Legends [PS3, Russian version]</td>\n",
              "      <td>19</td>\n",
              "    </tr>\n",
              "    <tr>\n",
              "      <th>4</th>\n",
              "      <td>5</td>\n",
              "      <td>27</td>\n",
              "      <td>0.092284</td>\n",
              "      <td>007 Legends [PS3, Russian version]</td>\n",
              "      <td>19</td>\n",
              "    </tr>\n",
              "  </tbody>\n",
              "</table>\n",
              "</div>"
            ],
            "text/plain": [
              "   shop_id  item_id  ...                           item_name category\n",
              "0        1       27  ...  007 Legends [PS3, Russian version]       19\n",
              "1        2       27  ...  007 Legends [PS3, Russian version]       19\n",
              "2        3       27  ...  007 Legends [PS3, Russian version]       19\n",
              "3        4       27  ...  007 Legends [PS3, Russian version]       19\n",
              "4        5       27  ...  007 Legends [PS3, Russian version]       19\n",
              "\n",
              "[5 rows x 5 columns]"
            ]
          },
          "metadata": {
            "tags": []
          },
          "execution_count": 77
        }
      ]
    },
    {
      "cell_type": "code",
      "metadata": {
        "id": "PJjbRZ1wZo8v",
        "outputId": "66fbaaba-0ec7-4bfa-c50a-a497b66848d3",
        "colab": {
          "base_uri": "https://localhost:8080/",
          "height": 374
        }
      },
      "source": [
        "prediction_item_cat = prediction_item_cat.merge(item_cat_df, left_on='item_id',right_on='item_id')\n",
        "prediction_item_cat.head()"
      ],
      "execution_count": 78,
      "outputs": [
        {
          "output_type": "execute_result",
          "data": {
            "text/html": [
              "<div>\n",
              "<style scoped>\n",
              "    .dataframe tbody tr th:only-of-type {\n",
              "        vertical-align: middle;\n",
              "    }\n",
              "\n",
              "    .dataframe tbody tr th {\n",
              "        vertical-align: top;\n",
              "    }\n",
              "\n",
              "    .dataframe thead th {\n",
              "        text-align: right;\n",
              "    }\n",
              "</style>\n",
              "<table border=\"1\" class=\"dataframe\">\n",
              "  <thead>\n",
              "    <tr style=\"text-align: right;\">\n",
              "      <th></th>\n",
              "      <th>shop_id</th>\n",
              "      <th>item_id</th>\n",
              "      <th>predicted_monthly_sales</th>\n",
              "      <th>item_name</th>\n",
              "      <th>category</th>\n",
              "      <th>item_category_name</th>\n",
              "      <th>active_flag</th>\n",
              "    </tr>\n",
              "  </thead>\n",
              "  <tbody>\n",
              "    <tr>\n",
              "      <th>0</th>\n",
              "      <td>1</td>\n",
              "      <td>27</td>\n",
              "      <td>0.094440</td>\n",
              "      <td>007 Legends [PS3, Russian version]</td>\n",
              "      <td>19</td>\n",
              "      <td>Games MAC - Digital</td>\n",
              "      <td>NaN</td>\n",
              "    </tr>\n",
              "    <tr>\n",
              "      <th>1</th>\n",
              "      <td>2</td>\n",
              "      <td>27</td>\n",
              "      <td>0.092998</td>\n",
              "      <td>007 Legends [PS3, Russian version]</td>\n",
              "      <td>19</td>\n",
              "      <td>Games MAC - Digital</td>\n",
              "      <td>NaN</td>\n",
              "    </tr>\n",
              "    <tr>\n",
              "      <th>2</th>\n",
              "      <td>3</td>\n",
              "      <td>27</td>\n",
              "      <td>0.093012</td>\n",
              "      <td>007 Legends [PS3, Russian version]</td>\n",
              "      <td>19</td>\n",
              "      <td>Games MAC - Digital</td>\n",
              "      <td>NaN</td>\n",
              "    </tr>\n",
              "    <tr>\n",
              "      <th>3</th>\n",
              "      <td>4</td>\n",
              "      <td>27</td>\n",
              "      <td>0.092928</td>\n",
              "      <td>007 Legends [PS3, Russian version]</td>\n",
              "      <td>19</td>\n",
              "      <td>Games MAC - Digital</td>\n",
              "      <td>NaN</td>\n",
              "    </tr>\n",
              "    <tr>\n",
              "      <th>4</th>\n",
              "      <td>5</td>\n",
              "      <td>27</td>\n",
              "      <td>0.092284</td>\n",
              "      <td>007 Legends [PS3, Russian version]</td>\n",
              "      <td>19</td>\n",
              "      <td>Games MAC - Digital</td>\n",
              "      <td>NaN</td>\n",
              "    </tr>\n",
              "  </tbody>\n",
              "</table>\n",
              "</div>"
            ],
            "text/plain": [
              "   shop_id  item_id  ...   item_category_name active_flag\n",
              "0        1       27  ...  Games MAC - Digital         NaN\n",
              "1        2       27  ...  Games MAC - Digital         NaN\n",
              "2        3       27  ...  Games MAC - Digital         NaN\n",
              "3        4       27  ...  Games MAC - Digital         NaN\n",
              "4        5       27  ...  Games MAC - Digital         NaN\n",
              "\n",
              "[5 rows x 7 columns]"
            ]
          },
          "metadata": {
            "tags": []
          },
          "execution_count": 78
        }
      ]
    },
    {
      "cell_type": "code",
      "metadata": {
        "id": "xeb51LMwbmto"
      },
      "source": [
        "prediction_item_cat = prediction_item_cat.rename(columns={'predicted_monthly_sales':'monthly_sales'})"
      ],
      "execution_count": 79,
      "outputs": []
    },
    {
      "cell_type": "code",
      "metadata": {
        "id": "lZIIRAFhnPJi",
        "outputId": "4f374612-2551-4418-e1b6-9b1f44128b27",
        "colab": {
          "base_uri": "https://localhost:8080/",
          "height": 289
        }
      },
      "source": [
        "prediction_item_cat.head()"
      ],
      "execution_count": 80,
      "outputs": [
        {
          "output_type": "execute_result",
          "data": {
            "text/html": [
              "<div>\n",
              "<style scoped>\n",
              "    .dataframe tbody tr th:only-of-type {\n",
              "        vertical-align: middle;\n",
              "    }\n",
              "\n",
              "    .dataframe tbody tr th {\n",
              "        vertical-align: top;\n",
              "    }\n",
              "\n",
              "    .dataframe thead th {\n",
              "        text-align: right;\n",
              "    }\n",
              "</style>\n",
              "<table border=\"1\" class=\"dataframe\">\n",
              "  <thead>\n",
              "    <tr style=\"text-align: right;\">\n",
              "      <th></th>\n",
              "      <th>shop_id</th>\n",
              "      <th>item_id</th>\n",
              "      <th>monthly_sales</th>\n",
              "      <th>item_name</th>\n",
              "      <th>category</th>\n",
              "      <th>item_category_name</th>\n",
              "      <th>active_flag</th>\n",
              "    </tr>\n",
              "  </thead>\n",
              "  <tbody>\n",
              "    <tr>\n",
              "      <th>0</th>\n",
              "      <td>1</td>\n",
              "      <td>27</td>\n",
              "      <td>0.094440</td>\n",
              "      <td>007 Legends [PS3, Russian version]</td>\n",
              "      <td>19</td>\n",
              "      <td>Games MAC - Digital</td>\n",
              "      <td>NaN</td>\n",
              "    </tr>\n",
              "    <tr>\n",
              "      <th>1</th>\n",
              "      <td>2</td>\n",
              "      <td>27</td>\n",
              "      <td>0.092998</td>\n",
              "      <td>007 Legends [PS3, Russian version]</td>\n",
              "      <td>19</td>\n",
              "      <td>Games MAC - Digital</td>\n",
              "      <td>NaN</td>\n",
              "    </tr>\n",
              "    <tr>\n",
              "      <th>2</th>\n",
              "      <td>3</td>\n",
              "      <td>27</td>\n",
              "      <td>0.093012</td>\n",
              "      <td>007 Legends [PS3, Russian version]</td>\n",
              "      <td>19</td>\n",
              "      <td>Games MAC - Digital</td>\n",
              "      <td>NaN</td>\n",
              "    </tr>\n",
              "    <tr>\n",
              "      <th>3</th>\n",
              "      <td>4</td>\n",
              "      <td>27</td>\n",
              "      <td>0.092928</td>\n",
              "      <td>007 Legends [PS3, Russian version]</td>\n",
              "      <td>19</td>\n",
              "      <td>Games MAC - Digital</td>\n",
              "      <td>NaN</td>\n",
              "    </tr>\n",
              "    <tr>\n",
              "      <th>4</th>\n",
              "      <td>5</td>\n",
              "      <td>27</td>\n",
              "      <td>0.092284</td>\n",
              "      <td>007 Legends [PS3, Russian version]</td>\n",
              "      <td>19</td>\n",
              "      <td>Games MAC - Digital</td>\n",
              "      <td>NaN</td>\n",
              "    </tr>\n",
              "  </tbody>\n",
              "</table>\n",
              "</div>"
            ],
            "text/plain": [
              "   shop_id  item_id  monthly_sales  ... category   item_category_name active_flag\n",
              "0        1       27       0.094440  ...       19  Games MAC - Digital         NaN\n",
              "1        2       27       0.092998  ...       19  Games MAC - Digital         NaN\n",
              "2        3       27       0.093012  ...       19  Games MAC - Digital         NaN\n",
              "3        4       27       0.092928  ...       19  Games MAC - Digital         NaN\n",
              "4        5       27       0.092284  ...       19  Games MAC - Digital         NaN\n",
              "\n",
              "[5 rows x 7 columns]"
            ]
          },
          "metadata": {
            "tags": []
          },
          "execution_count": 80
        }
      ]
    },
    {
      "cell_type": "code",
      "metadata": {
        "id": "LZz1ZSXanZGs",
        "outputId": "82b90284-b191-4935-e973-2b61f16b1e87",
        "colab": {
          "base_uri": "https://localhost:8080/",
          "height": 564
        }
      },
      "source": [
        "prediction_item_cat['date_block_num'] = 34\n",
        "prediction_item_cat.head()"
      ],
      "execution_count": 81,
      "outputs": [
        {
          "output_type": "execute_result",
          "data": {
            "text/html": [
              "<div>\n",
              "<style scoped>\n",
              "    .dataframe tbody tr th:only-of-type {\n",
              "        vertical-align: middle;\n",
              "    }\n",
              "\n",
              "    .dataframe tbody tr th {\n",
              "        vertical-align: top;\n",
              "    }\n",
              "\n",
              "    .dataframe thead th {\n",
              "        text-align: right;\n",
              "    }\n",
              "</style>\n",
              "<table border=\"1\" class=\"dataframe\">\n",
              "  <thead>\n",
              "    <tr style=\"text-align: right;\">\n",
              "      <th></th>\n",
              "      <th>shop_id</th>\n",
              "      <th>item_id</th>\n",
              "      <th>monthly_sales</th>\n",
              "      <th>item_name</th>\n",
              "      <th>category</th>\n",
              "      <th>item_category_name</th>\n",
              "      <th>active_flag</th>\n",
              "      <th>date_block_num</th>\n",
              "    </tr>\n",
              "  </thead>\n",
              "  <tbody>\n",
              "    <tr>\n",
              "      <th>0</th>\n",
              "      <td>1</td>\n",
              "      <td>27</td>\n",
              "      <td>0.094440</td>\n",
              "      <td>007 Legends [PS3, Russian version]</td>\n",
              "      <td>19</td>\n",
              "      <td>Games MAC - Digital</td>\n",
              "      <td>NaN</td>\n",
              "      <td>34</td>\n",
              "    </tr>\n",
              "    <tr>\n",
              "      <th>1</th>\n",
              "      <td>2</td>\n",
              "      <td>27</td>\n",
              "      <td>0.092998</td>\n",
              "      <td>007 Legends [PS3, Russian version]</td>\n",
              "      <td>19</td>\n",
              "      <td>Games MAC - Digital</td>\n",
              "      <td>NaN</td>\n",
              "      <td>34</td>\n",
              "    </tr>\n",
              "    <tr>\n",
              "      <th>2</th>\n",
              "      <td>3</td>\n",
              "      <td>27</td>\n",
              "      <td>0.093012</td>\n",
              "      <td>007 Legends [PS3, Russian version]</td>\n",
              "      <td>19</td>\n",
              "      <td>Games MAC - Digital</td>\n",
              "      <td>NaN</td>\n",
              "      <td>34</td>\n",
              "    </tr>\n",
              "    <tr>\n",
              "      <th>3</th>\n",
              "      <td>4</td>\n",
              "      <td>27</td>\n",
              "      <td>0.092928</td>\n",
              "      <td>007 Legends [PS3, Russian version]</td>\n",
              "      <td>19</td>\n",
              "      <td>Games MAC - Digital</td>\n",
              "      <td>NaN</td>\n",
              "      <td>34</td>\n",
              "    </tr>\n",
              "    <tr>\n",
              "      <th>4</th>\n",
              "      <td>5</td>\n",
              "      <td>27</td>\n",
              "      <td>0.092284</td>\n",
              "      <td>007 Legends [PS3, Russian version]</td>\n",
              "      <td>19</td>\n",
              "      <td>Games MAC - Digital</td>\n",
              "      <td>NaN</td>\n",
              "      <td>34</td>\n",
              "    </tr>\n",
              "  </tbody>\n",
              "</table>\n",
              "</div>"
            ],
            "text/plain": [
              "   shop_id  item_id  ...  active_flag date_block_num\n",
              "0        1       27  ...          NaN             34\n",
              "1        2       27  ...          NaN             34\n",
              "2        3       27  ...          NaN             34\n",
              "3        4       27  ...          NaN             34\n",
              "4        5       27  ...          NaN             34\n",
              "\n",
              "[5 rows x 8 columns]"
            ]
          },
          "metadata": {
            "tags": []
          },
          "execution_count": 81
        }
      ]
    },
    {
      "cell_type": "code",
      "metadata": {
        "id": "-D0PwDC3cDTf",
        "outputId": "ed19626e-de04-46e0-88d9-2d570b86336f",
        "colab": {
          "base_uri": "https://localhost:8080/",
          "height": 204
        }
      },
      "source": [
        "# merge items, item_categories and historical sales in Novembers 2013 and 2014 df \n",
        "# to find out historical sales by cateory\n",
        "nov_sales = sales[(sales['date_block_num']==10) | (sales['date_block_num']==22)]\n",
        "nov_sales = nov_sales.groupby(['date_block_num','shop_id','item_id'])['item_cnt_day'].sum().reset_index()\n",
        "nov_sales = nov_sales.rename(columns={'item_cnt_day':'monthly_sales'})\n",
        "# nov_sales.head()\n",
        "\n",
        "history_item_cat = nov_sales.merge(items_df, left_on='item_id',right_on='item_id')\n",
        "history_item_cat.head()"
      ],
      "execution_count": 82,
      "outputs": [
        {
          "output_type": "execute_result",
          "data": {
            "text/html": [
              "<div>\n",
              "<style scoped>\n",
              "    .dataframe tbody tr th:only-of-type {\n",
              "        vertical-align: middle;\n",
              "    }\n",
              "\n",
              "    .dataframe tbody tr th {\n",
              "        vertical-align: top;\n",
              "    }\n",
              "\n",
              "    .dataframe thead th {\n",
              "        text-align: right;\n",
              "    }\n",
              "</style>\n",
              "<table border=\"1\" class=\"dataframe\">\n",
              "  <thead>\n",
              "    <tr style=\"text-align: right;\">\n",
              "      <th></th>\n",
              "      <th>date_block_num</th>\n",
              "      <th>shop_id</th>\n",
              "      <th>item_id</th>\n",
              "      <th>monthly_sales</th>\n",
              "      <th>item_name</th>\n",
              "      <th>category</th>\n",
              "    </tr>\n",
              "  </thead>\n",
              "  <tbody>\n",
              "    <tr>\n",
              "      <th>0</th>\n",
              "      <td>10</td>\n",
              "      <td>2</td>\n",
              "      <td>33</td>\n",
              "      <td>2.0</td>\n",
              "      <td>1+1 (BD)</td>\n",
              "      <td>37</td>\n",
              "    </tr>\n",
              "    <tr>\n",
              "      <th>1</th>\n",
              "      <td>10</td>\n",
              "      <td>7</td>\n",
              "      <td>33</td>\n",
              "      <td>1.0</td>\n",
              "      <td>1+1 (BD)</td>\n",
              "      <td>37</td>\n",
              "    </tr>\n",
              "    <tr>\n",
              "      <th>2</th>\n",
              "      <td>10</td>\n",
              "      <td>10</td>\n",
              "      <td>33</td>\n",
              "      <td>1.0</td>\n",
              "      <td>1+1 (BD)</td>\n",
              "      <td>37</td>\n",
              "    </tr>\n",
              "    <tr>\n",
              "      <th>3</th>\n",
              "      <td>10</td>\n",
              "      <td>22</td>\n",
              "      <td>33</td>\n",
              "      <td>2.0</td>\n",
              "      <td>1+1 (BD)</td>\n",
              "      <td>37</td>\n",
              "    </tr>\n",
              "    <tr>\n",
              "      <th>4</th>\n",
              "      <td>10</td>\n",
              "      <td>27</td>\n",
              "      <td>33</td>\n",
              "      <td>1.0</td>\n",
              "      <td>1+1 (BD)</td>\n",
              "      <td>37</td>\n",
              "    </tr>\n",
              "  </tbody>\n",
              "</table>\n",
              "</div>"
            ],
            "text/plain": [
              "   date_block_num  shop_id  item_id  monthly_sales item_name  category\n",
              "0              10        2       33            2.0  1+1 (BD)        37\n",
              "1              10        7       33            1.0  1+1 (BD)        37\n",
              "2              10       10       33            1.0  1+1 (BD)        37\n",
              "3              10       22       33            2.0  1+1 (BD)        37\n",
              "4              10       27       33            1.0  1+1 (BD)        37"
            ]
          },
          "metadata": {
            "tags": []
          },
          "execution_count": 82
        }
      ]
    },
    {
      "cell_type": "code",
      "metadata": {
        "id": "arRQFy97cDHl"
      },
      "source": [
        "history_item_cat = history_item_cat.merge(item_cat_df, left_on='item_id',right_on='item_id')"
      ],
      "execution_count": 83,
      "outputs": []
    },
    {
      "cell_type": "code",
      "metadata": {
        "id": "20ufzfwndr7X",
        "outputId": "89fcd338-b8b7-4056-b7c8-3db212a205eb",
        "colab": {
          "base_uri": "https://localhost:8080/",
          "height": 224
        }
      },
      "source": [
        "history_item_cat.head()"
      ],
      "execution_count": 84,
      "outputs": [
        {
          "output_type": "execute_result",
          "data": {
            "text/html": [
              "<div>\n",
              "<style scoped>\n",
              "    .dataframe tbody tr th:only-of-type {\n",
              "        vertical-align: middle;\n",
              "    }\n",
              "\n",
              "    .dataframe tbody tr th {\n",
              "        vertical-align: top;\n",
              "    }\n",
              "\n",
              "    .dataframe thead th {\n",
              "        text-align: right;\n",
              "    }\n",
              "</style>\n",
              "<table border=\"1\" class=\"dataframe\">\n",
              "  <thead>\n",
              "    <tr style=\"text-align: right;\">\n",
              "      <th></th>\n",
              "      <th>date_block_num</th>\n",
              "      <th>shop_id</th>\n",
              "      <th>item_id</th>\n",
              "      <th>monthly_sales</th>\n",
              "      <th>item_name</th>\n",
              "      <th>category</th>\n",
              "      <th>item_category_name</th>\n",
              "      <th>active_flag</th>\n",
              "    </tr>\n",
              "  </thead>\n",
              "  <tbody>\n",
              "    <tr>\n",
              "      <th>0</th>\n",
              "      <td>10</td>\n",
              "      <td>2</td>\n",
              "      <td>33</td>\n",
              "      <td>2.0</td>\n",
              "      <td>1+1 (BD)</td>\n",
              "      <td>37</td>\n",
              "      <td>Payment cards - Live!</td>\n",
              "      <td>NaN</td>\n",
              "    </tr>\n",
              "    <tr>\n",
              "      <th>1</th>\n",
              "      <td>10</td>\n",
              "      <td>7</td>\n",
              "      <td>33</td>\n",
              "      <td>1.0</td>\n",
              "      <td>1+1 (BD)</td>\n",
              "      <td>37</td>\n",
              "      <td>Payment cards - Live!</td>\n",
              "      <td>NaN</td>\n",
              "    </tr>\n",
              "    <tr>\n",
              "      <th>2</th>\n",
              "      <td>10</td>\n",
              "      <td>10</td>\n",
              "      <td>33</td>\n",
              "      <td>1.0</td>\n",
              "      <td>1+1 (BD)</td>\n",
              "      <td>37</td>\n",
              "      <td>Payment cards - Live!</td>\n",
              "      <td>NaN</td>\n",
              "    </tr>\n",
              "    <tr>\n",
              "      <th>3</th>\n",
              "      <td>10</td>\n",
              "      <td>22</td>\n",
              "      <td>33</td>\n",
              "      <td>2.0</td>\n",
              "      <td>1+1 (BD)</td>\n",
              "      <td>37</td>\n",
              "      <td>Payment cards - Live!</td>\n",
              "      <td>NaN</td>\n",
              "    </tr>\n",
              "    <tr>\n",
              "      <th>4</th>\n",
              "      <td>10</td>\n",
              "      <td>27</td>\n",
              "      <td>33</td>\n",
              "      <td>1.0</td>\n",
              "      <td>1+1 (BD)</td>\n",
              "      <td>37</td>\n",
              "      <td>Payment cards - Live!</td>\n",
              "      <td>NaN</td>\n",
              "    </tr>\n",
              "  </tbody>\n",
              "</table>\n",
              "</div>"
            ],
            "text/plain": [
              "   date_block_num  shop_id  ...     item_category_name  active_flag\n",
              "0              10        2  ...  Payment cards - Live!          NaN\n",
              "1              10        7  ...  Payment cards - Live!          NaN\n",
              "2              10       10  ...  Payment cards - Live!          NaN\n",
              "3              10       22  ...  Payment cards - Live!          NaN\n",
              "4              10       27  ...  Payment cards - Live!          NaN\n",
              "\n",
              "[5 rows x 8 columns]"
            ]
          },
          "metadata": {
            "tags": []
          },
          "execution_count": 84
        }
      ]
    },
    {
      "cell_type": "code",
      "metadata": {
        "id": "szKglcpTg4pJ"
      },
      "source": [
        "cat_insights = history_item_cat.append(prediction_item_cat)"
      ],
      "execution_count": 85,
      "outputs": []
    },
    {
      "cell_type": "code",
      "metadata": {
        "id": "ealSeg5teOxJ",
        "outputId": "5e541e09-a67a-4945-90e6-e33d3a758fee",
        "colab": {
          "base_uri": "https://localhost:8080/",
          "height": 224
        }
      },
      "source": [
        "cat_insights.head()"
      ],
      "execution_count": 86,
      "outputs": [
        {
          "output_type": "execute_result",
          "data": {
            "text/html": [
              "<div>\n",
              "<style scoped>\n",
              "    .dataframe tbody tr th:only-of-type {\n",
              "        vertical-align: middle;\n",
              "    }\n",
              "\n",
              "    .dataframe tbody tr th {\n",
              "        vertical-align: top;\n",
              "    }\n",
              "\n",
              "    .dataframe thead th {\n",
              "        text-align: right;\n",
              "    }\n",
              "</style>\n",
              "<table border=\"1\" class=\"dataframe\">\n",
              "  <thead>\n",
              "    <tr style=\"text-align: right;\">\n",
              "      <th></th>\n",
              "      <th>date_block_num</th>\n",
              "      <th>shop_id</th>\n",
              "      <th>item_id</th>\n",
              "      <th>monthly_sales</th>\n",
              "      <th>item_name</th>\n",
              "      <th>category</th>\n",
              "      <th>item_category_name</th>\n",
              "      <th>active_flag</th>\n",
              "    </tr>\n",
              "  </thead>\n",
              "  <tbody>\n",
              "    <tr>\n",
              "      <th>0</th>\n",
              "      <td>10</td>\n",
              "      <td>2</td>\n",
              "      <td>33</td>\n",
              "      <td>2.0</td>\n",
              "      <td>1+1 (BD)</td>\n",
              "      <td>37</td>\n",
              "      <td>Payment cards - Live!</td>\n",
              "      <td>NaN</td>\n",
              "    </tr>\n",
              "    <tr>\n",
              "      <th>1</th>\n",
              "      <td>10</td>\n",
              "      <td>7</td>\n",
              "      <td>33</td>\n",
              "      <td>1.0</td>\n",
              "      <td>1+1 (BD)</td>\n",
              "      <td>37</td>\n",
              "      <td>Payment cards - Live!</td>\n",
              "      <td>NaN</td>\n",
              "    </tr>\n",
              "    <tr>\n",
              "      <th>2</th>\n",
              "      <td>10</td>\n",
              "      <td>10</td>\n",
              "      <td>33</td>\n",
              "      <td>1.0</td>\n",
              "      <td>1+1 (BD)</td>\n",
              "      <td>37</td>\n",
              "      <td>Payment cards - Live!</td>\n",
              "      <td>NaN</td>\n",
              "    </tr>\n",
              "    <tr>\n",
              "      <th>3</th>\n",
              "      <td>10</td>\n",
              "      <td>22</td>\n",
              "      <td>33</td>\n",
              "      <td>2.0</td>\n",
              "      <td>1+1 (BD)</td>\n",
              "      <td>37</td>\n",
              "      <td>Payment cards - Live!</td>\n",
              "      <td>NaN</td>\n",
              "    </tr>\n",
              "    <tr>\n",
              "      <th>4</th>\n",
              "      <td>10</td>\n",
              "      <td>27</td>\n",
              "      <td>33</td>\n",
              "      <td>1.0</td>\n",
              "      <td>1+1 (BD)</td>\n",
              "      <td>37</td>\n",
              "      <td>Payment cards - Live!</td>\n",
              "      <td>NaN</td>\n",
              "    </tr>\n",
              "  </tbody>\n",
              "</table>\n",
              "</div>"
            ],
            "text/plain": [
              "   date_block_num  shop_id  ...     item_category_name  active_flag\n",
              "0              10        2  ...  Payment cards - Live!          NaN\n",
              "1              10        7  ...  Payment cards - Live!          NaN\n",
              "2              10       10  ...  Payment cards - Live!          NaN\n",
              "3              10       22  ...  Payment cards - Live!          NaN\n",
              "4              10       27  ...  Payment cards - Live!          NaN\n",
              "\n",
              "[5 rows x 8 columns]"
            ]
          },
          "metadata": {
            "tags": []
          },
          "execution_count": 86
        }
      ]
    },
    {
      "cell_type": "code",
      "metadata": {
        "id": "Uze7voRKbCAz"
      },
      "source": [
        "cat_name_grouped = cat_insights.groupby(['date_block_num','category'])['item_category_name'].apply(lambda x: ','.join(x)).reset_index()"
      ],
      "execution_count": 97,
      "outputs": []
    },
    {
      "cell_type": "code",
      "metadata": {
        "id": "0ezs8cBVm7xg",
        "outputId": "1961dcb0-b949-4081-fca6-aa71a65f548a",
        "colab": {
          "base_uri": "https://localhost:8080/",
          "height": 204
        }
      },
      "source": [
        "cat_name_grouped.head()"
      ],
      "execution_count": 99,
      "outputs": [
        {
          "output_type": "execute_result",
          "data": {
            "text/html": [
              "<div>\n",
              "<style scoped>\n",
              "    .dataframe tbody tr th:only-of-type {\n",
              "        vertical-align: middle;\n",
              "    }\n",
              "\n",
              "    .dataframe tbody tr th {\n",
              "        vertical-align: top;\n",
              "    }\n",
              "\n",
              "    .dataframe thead th {\n",
              "        text-align: right;\n",
              "    }\n",
              "</style>\n",
              "<table border=\"1\" class=\"dataframe\">\n",
              "  <thead>\n",
              "    <tr style=\"text-align: right;\">\n",
              "      <th></th>\n",
              "      <th>date_block_num</th>\n",
              "      <th>category</th>\n",
              "      <th>item_category_name</th>\n",
              "    </tr>\n",
              "  </thead>\n",
              "  <tbody>\n",
              "    <tr>\n",
              "      <th>0</th>\n",
              "      <td>10</td>\n",
              "      <td>19</td>\n",
              "      <td>Games MAC - Digital,Games MAC - Digital</td>\n",
              "    </tr>\n",
              "    <tr>\n",
              "      <th>1</th>\n",
              "      <td>10</td>\n",
              "      <td>30</td>\n",
              "      <td>Games PC - Additional publications,Games PC - ...</td>\n",
              "    </tr>\n",
              "    <tr>\n",
              "      <th>2</th>\n",
              "      <td>10</td>\n",
              "      <td>37</td>\n",
              "      <td>Payment cards - Live!,Payment cards - Live!,Pa...</td>\n",
              "    </tr>\n",
              "    <tr>\n",
              "      <th>3</th>\n",
              "      <td>10</td>\n",
              "      <td>40</td>\n",
              "      <td>Games PC - Standard Edition,Games PC - Standar...</td>\n",
              "    </tr>\n",
              "    <tr>\n",
              "      <th>4</th>\n",
              "      <td>10</td>\n",
              "      <td>43</td>\n",
              "      <td>Music - CD of local production,Music - CD of l...</td>\n",
              "    </tr>\n",
              "  </tbody>\n",
              "</table>\n",
              "</div>"
            ],
            "text/plain": [
              "   date_block_num  category                                 item_category_name\n",
              "0              10        19            Games MAC - Digital,Games MAC - Digital\n",
              "1              10        30  Games PC - Additional publications,Games PC - ...\n",
              "2              10        37  Payment cards - Live!,Payment cards - Live!,Pa...\n",
              "3              10        40  Games PC - Standard Edition,Games PC - Standar...\n",
              "4              10        43  Music - CD of local production,Music - CD of l..."
            ]
          },
          "metadata": {
            "tags": []
          },
          "execution_count": 99
        }
      ]
    },
    {
      "cell_type": "code",
      "metadata": {
        "id": "QT11-sq8vUYF"
      },
      "source": [
        "cat_insights_grouped = cat_insights.groupby(['date_block_num','category'])['item_category_name','monthly_sales'].sum().reset_index()\n",
        "cat_insights_grouped = cat_insights_grouped.merge(cat_name_grouped, how = 'inner')"
      ],
      "execution_count": 104,
      "outputs": []
    },
    {
      "cell_type": "code",
      "metadata": {
        "id": "Wn7og3hOvtuu",
        "outputId": "9b28b26c-39c1-41a2-e5ad-ded9c3a66eb0",
        "colab": {
          "base_uri": "https://localhost:8080/",
          "height": 204
        }
      },
      "source": [
        "cat_insights_grouped.head()"
      ],
      "execution_count": 117,
      "outputs": [
        {
          "output_type": "execute_result",
          "data": {
            "text/html": [
              "<div>\n",
              "<style scoped>\n",
              "    .dataframe tbody tr th:only-of-type {\n",
              "        vertical-align: middle;\n",
              "    }\n",
              "\n",
              "    .dataframe tbody tr th {\n",
              "        vertical-align: top;\n",
              "    }\n",
              "\n",
              "    .dataframe thead th {\n",
              "        text-align: right;\n",
              "    }\n",
              "</style>\n",
              "<table border=\"1\" class=\"dataframe\">\n",
              "  <thead>\n",
              "    <tr style=\"text-align: right;\">\n",
              "      <th></th>\n",
              "      <th>date_block_num</th>\n",
              "      <th>category</th>\n",
              "      <th>monthly_sales</th>\n",
              "      <th>item_category_name</th>\n",
              "    </tr>\n",
              "  </thead>\n",
              "  <tbody>\n",
              "    <tr>\n",
              "      <th>0</th>\n",
              "      <td>10</td>\n",
              "      <td>19</td>\n",
              "      <td>2.0</td>\n",
              "      <td>Games MAC - Digital,Games MAC - Digital</td>\n",
              "    </tr>\n",
              "    <tr>\n",
              "      <th>1</th>\n",
              "      <td>10</td>\n",
              "      <td>30</td>\n",
              "      <td>7.0</td>\n",
              "      <td>Games PC - Additional publications,Games PC - ...</td>\n",
              "    </tr>\n",
              "    <tr>\n",
              "      <th>2</th>\n",
              "      <td>10</td>\n",
              "      <td>37</td>\n",
              "      <td>50.0</td>\n",
              "      <td>Payment cards - Live!,Payment cards - Live!,Pa...</td>\n",
              "    </tr>\n",
              "    <tr>\n",
              "      <th>3</th>\n",
              "      <td>10</td>\n",
              "      <td>40</td>\n",
              "      <td>239.0</td>\n",
              "      <td>Games PC - Standard Edition,Games PC - Standar...</td>\n",
              "    </tr>\n",
              "    <tr>\n",
              "      <th>4</th>\n",
              "      <td>10</td>\n",
              "      <td>43</td>\n",
              "      <td>17.0</td>\n",
              "      <td>Music - CD of local production,Music - CD of l...</td>\n",
              "    </tr>\n",
              "  </tbody>\n",
              "</table>\n",
              "</div>"
            ],
            "text/plain": [
              "   date_block_num  ...                                 item_category_name\n",
              "0              10  ...            Games MAC - Digital,Games MAC - Digital\n",
              "1              10  ...  Games PC - Additional publications,Games PC - ...\n",
              "2              10  ...  Payment cards - Live!,Payment cards - Live!,Pa...\n",
              "3              10  ...  Games PC - Standard Edition,Games PC - Standar...\n",
              "4              10  ...  Music - CD of local production,Music - CD of l...\n",
              "\n",
              "[5 rows x 4 columns]"
            ]
          },
          "metadata": {
            "tags": []
          },
          "execution_count": 117
        }
      ]
    },
    {
      "cell_type": "code",
      "metadata": {
        "id": "I-glMpQ3nLIP",
        "outputId": "d21666c7-9857-45bf-c555-3c5bcb37a05a",
        "colab": {
          "base_uri": "https://localhost:8080/",
          "height": 300
        }
      },
      "source": [
        "g = sns.pointplot(x='date_block_num', y='monthly_sales', hue='category', data=cat_insights_grouped)\n",
        "g.legend(loc='center left', bbox_to_anchor=(1, 0.5), ncol=1)"
      ],
      "execution_count": 119,
      "outputs": [
        {
          "output_type": "execute_result",
          "data": {
            "text/plain": [
              "<matplotlib.legend.Legend at 0x7fc32708c1d0>"
            ]
          },
          "metadata": {
            "tags": []
          },
          "execution_count": 119
        },
        {
          "output_type": "display_data",
          "data": {
            "image/png": "[encoded data removed]",
            "text/plain": [
              "<Figure size 432x288 with 1 Axes>"
            ]
          },
          "metadata": {
            "tags": [],
            "needs_background": "light"
          }
        }
      ]
    },
    {
      "cell_type": "code",
      "metadata": {
        "id": "7QuUK-XCdybc"
      },
      "source": [
        "# it can be seen that sales in category 37 and 57 is expected to increase in 2015\n",
        "# despite the majority of other items are expected to have decreasing sales \n",
        "cat1 = cat_insights_grouped[cat_insights_grouped['category']==37]\n",
        "cat2 = cat_insights_grouped[cat_insights_grouped['category']==57]"
      ],
      "execution_count": 120,
      "outputs": []
    },
    {
      "cell_type": "code",
      "metadata": {
        "id": "RuPYMtXXzdTo",
        "outputId": "3c42f32b-507b-4b55-83ed-6a7cf1815736",
        "colab": {
          "base_uri": "https://localhost:8080/",
          "height": 142
        }
      },
      "source": [
        "# let's see what the corresponding category names are \n",
        "cat1"
      ],
      "execution_count": 122,
      "outputs": [
        {
          "output_type": "execute_result",
          "data": {
            "text/html": [
              "<div>\n",
              "<style scoped>\n",
              "    .dataframe tbody tr th:only-of-type {\n",
              "        vertical-align: middle;\n",
              "    }\n",
              "\n",
              "    .dataframe tbody tr th {\n",
              "        vertical-align: top;\n",
              "    }\n",
              "\n",
              "    .dataframe thead th {\n",
              "        text-align: right;\n",
              "    }\n",
              "</style>\n",
              "<table border=\"1\" class=\"dataframe\">\n",
              "  <thead>\n",
              "    <tr style=\"text-align: right;\">\n",
              "      <th></th>\n",
              "      <th>date_block_num</th>\n",
              "      <th>category</th>\n",
              "      <th>monthly_sales</th>\n",
              "      <th>item_category_name</th>\n",
              "    </tr>\n",
              "  </thead>\n",
              "  <tbody>\n",
              "    <tr>\n",
              "      <th>2</th>\n",
              "      <td>10</td>\n",
              "      <td>37</td>\n",
              "      <td>50.000000</td>\n",
              "      <td>Payment cards - Live!,Payment cards - Live!,Pa...</td>\n",
              "    </tr>\n",
              "    <tr>\n",
              "      <th>7</th>\n",
              "      <td>22</td>\n",
              "      <td>37</td>\n",
              "      <td>48.000000</td>\n",
              "      <td>Payment cards - Live!,Payment cards - Live!,Pa...</td>\n",
              "    </tr>\n",
              "    <tr>\n",
              "      <th>14</th>\n",
              "      <td>34</td>\n",
              "      <td>37</td>\n",
              "      <td>55.369394</td>\n",
              "      <td>Games PC - Digital,Games PC - Digital,Games PC...</td>\n",
              "    </tr>\n",
              "  </tbody>\n",
              "</table>\n",
              "</div>"
            ],
            "text/plain": [
              "    date_block_num  ...                                 item_category_name\n",
              "2               10  ...  Payment cards - Live!,Payment cards - Live!,Pa...\n",
              "7               22  ...  Payment cards - Live!,Payment cards - Live!,Pa...\n",
              "14              34  ...  Games PC - Digital,Games PC - Digital,Games PC...\n",
              "\n",
              "[3 rows x 4 columns]"
            ]
          },
          "metadata": {
            "tags": []
          },
          "execution_count": 122
        }
      ]
    },
    {
      "cell_type": "code",
      "metadata": {
        "id": "lG5Ua_PizgsY",
        "outputId": "24020441-1caf-401d-f171-f1061414a796",
        "colab": {
          "base_uri": "https://localhost:8080/",
          "height": 142
        }
      },
      "source": [
        "cat2"
      ],
      "execution_count": 123,
      "outputs": [
        {
          "output_type": "execute_result",
          "data": {
            "text/html": [
              "<div>\n",
              "<style scoped>\n",
              "    .dataframe tbody tr th:only-of-type {\n",
              "        vertical-align: middle;\n",
              "    }\n",
              "\n",
              "    .dataframe tbody tr th {\n",
              "        vertical-align: top;\n",
              "    }\n",
              "\n",
              "    .dataframe thead th {\n",
              "        text-align: right;\n",
              "    }\n",
              "</style>\n",
              "<table border=\"1\" class=\"dataframe\">\n",
              "  <thead>\n",
              "    <tr style=\"text-align: right;\">\n",
              "      <th></th>\n",
              "      <th>date_block_num</th>\n",
              "      <th>category</th>\n",
              "      <th>monthly_sales</th>\n",
              "      <th>item_category_name</th>\n",
              "    </tr>\n",
              "  </thead>\n",
              "  <tbody>\n",
              "    <tr>\n",
              "      <th>5</th>\n",
              "      <td>10</td>\n",
              "      <td>57</td>\n",
              "      <td>67.000000</td>\n",
              "      <td>Books - artbook, encyclopedia,Books - artbook,...</td>\n",
              "    </tr>\n",
              "    <tr>\n",
              "      <th>10</th>\n",
              "      <td>22</td>\n",
              "      <td>57</td>\n",
              "      <td>37.000000</td>\n",
              "      <td>Books - artbook, encyclopedia,Books - artbook,...</td>\n",
              "    </tr>\n",
              "    <tr>\n",
              "      <th>21</th>\n",
              "      <td>34</td>\n",
              "      <td>57</td>\n",
              "      <td>39.310124</td>\n",
              "      <td>Books - Fiction,Books - Fiction,Books - Fictio...</td>\n",
              "    </tr>\n",
              "  </tbody>\n",
              "</table>\n",
              "</div>"
            ],
            "text/plain": [
              "    date_block_num  ...                                 item_category_name\n",
              "5               10  ...  Books - artbook, encyclopedia,Books - artbook,...\n",
              "10              22  ...  Books - artbook, encyclopedia,Books - artbook,...\n",
              "21              34  ...  Books - Fiction,Books - Fiction,Books - Fictio...\n",
              "\n",
              "[3 rows x 4 columns]"
            ]
          },
          "metadata": {
            "tags": []
          },
          "execution_count": 123
        }
      ]
    },
    {
      "cell_type": "code",
      "metadata": {
        "id": "MyfKMA9DznvO"
      },
      "source": [
        ""
      ],
      "execution_count": null,
      "outputs": []
    }
  ]
}